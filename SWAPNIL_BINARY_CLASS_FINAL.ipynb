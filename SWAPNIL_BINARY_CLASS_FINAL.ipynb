{
 "cells": [
  {
   "cell_type": "code",
   "execution_count": 1,
   "metadata": {},
   "outputs": [
    {
     "name": "stderr",
     "output_type": "stream",
     "text": [
      "/opt/anaconda3/lib/python3.7/site-packages/lightgbm/__init__.py:48: UserWarning: Starting from version 2.2.1, the library file in distribution wheels for macOS is built by the Apple Clang (Xcode_8.3.3) compiler.\n",
      "This means that in case of installing LightGBM from PyPI via the ``pip install lightgbm`` command, you don't need to install the gcc compiler anymore.\n",
      "Instead of that, you need to install the OpenMP library, which is required for running LightGBM on the system with the Apple Clang compiler.\n",
      "You can install the OpenMP library by the following command: ``brew install libomp``.\n",
      "  \"You can install the OpenMP library by the following command: ``brew install libomp``.\", UserWarning)\n"
     ]
    }
   ],
   "source": [
    "import pandas as pd\n",
    "import numpy as np\n",
    "import seaborn as sns\n",
    "import matplotlib.pyplot as plt\n",
    "from scipy.stats import chi2_contingency\n",
    "from sklearn.metrics import f1_score,classification_report\n",
    "from sklearn.metrics import roc_auc_score,roc_curve,accuracy_score,confusion_matrix\n",
    "from scipy.stats import randint as sp_randint\n",
    "from sklearn.neighbors import KNeighborsClassifier\n",
    "from sklearn.model_selection import RandomizedSearchCV,GridSearchCV\n",
    "from sklearn.preprocessing import StandardScaler\n",
    "from scipy.stats import randint as sp_randint\n",
    "from sklearn.ensemble import RandomForestClassifier\n",
    "from sklearn.tree import DecisionTreeClassifier\n",
    "from sklearn.linear_model import LogisticRegression\n",
    "from sklearn.naive_bayes import BernoulliNB\n",
    "from sklearn.ensemble import AdaBoostClassifier\n",
    "from sklearn.ensemble import BaggingClassifier\n",
    "from sklearn.naive_bayes import GaussianNB\n",
    "from sklearn import model_selection\n",
    "from sklearn.preprocessing import LabelEncoder\n",
    "from sklearn.ensemble import VotingClassifier\n",
    "from sklearn.impute import KNNImputer\n",
    "from sklearn.naive_bayes import BernoulliNB\n",
    "from sklearn.ensemble import AdaBoostClassifier\n",
    "import lightgbm as lgb"
   ]
  },
  {
   "cell_type": "code",
   "execution_count": 2,
   "metadata": {},
   "outputs": [],
   "source": [
    "df=pd.read_csv('diabetic_data - Copy.csv')"
   ]
  },
  {
   "cell_type": "code",
   "execution_count": 3,
   "metadata": {},
   "outputs": [
    {
     "data": {
      "text/html": [
       "<div>\n",
       "<style scoped>\n",
       "    .dataframe tbody tr th:only-of-type {\n",
       "        vertical-align: middle;\n",
       "    }\n",
       "\n",
       "    .dataframe tbody tr th {\n",
       "        vertical-align: top;\n",
       "    }\n",
       "\n",
       "    .dataframe thead th {\n",
       "        text-align: right;\n",
       "    }\n",
       "</style>\n",
       "<table border=\"1\" class=\"dataframe\">\n",
       "  <thead>\n",
       "    <tr style=\"text-align: right;\">\n",
       "      <th></th>\n",
       "      <th>encounter_id</th>\n",
       "      <th>patient_nbr</th>\n",
       "      <th>race</th>\n",
       "      <th>gender</th>\n",
       "      <th>age</th>\n",
       "      <th>weight</th>\n",
       "      <th>admission_type_id</th>\n",
       "      <th>discharge_disposition_id</th>\n",
       "      <th>admission_source_id</th>\n",
       "      <th>time_in_hospital</th>\n",
       "      <th>...</th>\n",
       "      <th>citoglipton</th>\n",
       "      <th>insulin</th>\n",
       "      <th>glyburide-metformin</th>\n",
       "      <th>glipizide-metformin</th>\n",
       "      <th>glimepiride-pioglitazone</th>\n",
       "      <th>metformin-rosiglitazone</th>\n",
       "      <th>metformin-pioglitazone</th>\n",
       "      <th>change</th>\n",
       "      <th>diabetesMed</th>\n",
       "      <th>readmitted</th>\n",
       "    </tr>\n",
       "  </thead>\n",
       "  <tbody>\n",
       "    <tr>\n",
       "      <td>0</td>\n",
       "      <td>2278392</td>\n",
       "      <td>8222157</td>\n",
       "      <td>Caucasian</td>\n",
       "      <td>Female</td>\n",
       "      <td>[0-10)</td>\n",
       "      <td>?</td>\n",
       "      <td>6</td>\n",
       "      <td>25</td>\n",
       "      <td>1</td>\n",
       "      <td>1</td>\n",
       "      <td>...</td>\n",
       "      <td>No</td>\n",
       "      <td>No</td>\n",
       "      <td>No</td>\n",
       "      <td>No</td>\n",
       "      <td>No</td>\n",
       "      <td>No</td>\n",
       "      <td>No</td>\n",
       "      <td>No</td>\n",
       "      <td>No</td>\n",
       "      <td>NO</td>\n",
       "    </tr>\n",
       "    <tr>\n",
       "      <td>1</td>\n",
       "      <td>149190</td>\n",
       "      <td>55629189</td>\n",
       "      <td>Caucasian</td>\n",
       "      <td>Female</td>\n",
       "      <td>[10-20)</td>\n",
       "      <td>?</td>\n",
       "      <td>1</td>\n",
       "      <td>1</td>\n",
       "      <td>7</td>\n",
       "      <td>3</td>\n",
       "      <td>...</td>\n",
       "      <td>No</td>\n",
       "      <td>Up</td>\n",
       "      <td>No</td>\n",
       "      <td>No</td>\n",
       "      <td>No</td>\n",
       "      <td>No</td>\n",
       "      <td>No</td>\n",
       "      <td>Ch</td>\n",
       "      <td>Yes</td>\n",
       "      <td>&gt;30</td>\n",
       "    </tr>\n",
       "    <tr>\n",
       "      <td>2</td>\n",
       "      <td>64410</td>\n",
       "      <td>86047875</td>\n",
       "      <td>AfricanAmerican</td>\n",
       "      <td>Female</td>\n",
       "      <td>[20-30)</td>\n",
       "      <td>?</td>\n",
       "      <td>1</td>\n",
       "      <td>1</td>\n",
       "      <td>7</td>\n",
       "      <td>2</td>\n",
       "      <td>...</td>\n",
       "      <td>No</td>\n",
       "      <td>No</td>\n",
       "      <td>No</td>\n",
       "      <td>No</td>\n",
       "      <td>No</td>\n",
       "      <td>No</td>\n",
       "      <td>No</td>\n",
       "      <td>No</td>\n",
       "      <td>Yes</td>\n",
       "      <td>NO</td>\n",
       "    </tr>\n",
       "    <tr>\n",
       "      <td>3</td>\n",
       "      <td>500364</td>\n",
       "      <td>82442376</td>\n",
       "      <td>Caucasian</td>\n",
       "      <td>Male</td>\n",
       "      <td>[30-40)</td>\n",
       "      <td>?</td>\n",
       "      <td>1</td>\n",
       "      <td>1</td>\n",
       "      <td>7</td>\n",
       "      <td>2</td>\n",
       "      <td>...</td>\n",
       "      <td>No</td>\n",
       "      <td>Up</td>\n",
       "      <td>No</td>\n",
       "      <td>No</td>\n",
       "      <td>No</td>\n",
       "      <td>No</td>\n",
       "      <td>No</td>\n",
       "      <td>Ch</td>\n",
       "      <td>Yes</td>\n",
       "      <td>NO</td>\n",
       "    </tr>\n",
       "    <tr>\n",
       "      <td>4</td>\n",
       "      <td>16680</td>\n",
       "      <td>42519267</td>\n",
       "      <td>Caucasian</td>\n",
       "      <td>Male</td>\n",
       "      <td>[40-50)</td>\n",
       "      <td>?</td>\n",
       "      <td>1</td>\n",
       "      <td>1</td>\n",
       "      <td>7</td>\n",
       "      <td>1</td>\n",
       "      <td>...</td>\n",
       "      <td>No</td>\n",
       "      <td>Steady</td>\n",
       "      <td>No</td>\n",
       "      <td>No</td>\n",
       "      <td>No</td>\n",
       "      <td>No</td>\n",
       "      <td>No</td>\n",
       "      <td>Ch</td>\n",
       "      <td>Yes</td>\n",
       "      <td>NO</td>\n",
       "    </tr>\n",
       "  </tbody>\n",
       "</table>\n",
       "<p>5 rows × 50 columns</p>\n",
       "</div>"
      ],
      "text/plain": [
       "   encounter_id  patient_nbr             race  gender      age weight  \\\n",
       "0       2278392      8222157        Caucasian  Female   [0-10)      ?   \n",
       "1        149190     55629189        Caucasian  Female  [10-20)      ?   \n",
       "2         64410     86047875  AfricanAmerican  Female  [20-30)      ?   \n",
       "3        500364     82442376        Caucasian    Male  [30-40)      ?   \n",
       "4         16680     42519267        Caucasian    Male  [40-50)      ?   \n",
       "\n",
       "   admission_type_id  discharge_disposition_id  admission_source_id  \\\n",
       "0                  6                        25                    1   \n",
       "1                  1                         1                    7   \n",
       "2                  1                         1                    7   \n",
       "3                  1                         1                    7   \n",
       "4                  1                         1                    7   \n",
       "\n",
       "   time_in_hospital  ... citoglipton insulin  glyburide-metformin  \\\n",
       "0                 1  ...          No      No                   No   \n",
       "1                 3  ...          No      Up                   No   \n",
       "2                 2  ...          No      No                   No   \n",
       "3                 2  ...          No      Up                   No   \n",
       "4                 1  ...          No  Steady                   No   \n",
       "\n",
       "   glipizide-metformin  glimepiride-pioglitazone  metformin-rosiglitazone  \\\n",
       "0                   No                        No                       No   \n",
       "1                   No                        No                       No   \n",
       "2                   No                        No                       No   \n",
       "3                   No                        No                       No   \n",
       "4                   No                        No                       No   \n",
       "\n",
       "   metformin-pioglitazone  change diabetesMed readmitted  \n",
       "0                      No      No          No         NO  \n",
       "1                      No      Ch         Yes        >30  \n",
       "2                      No      No         Yes         NO  \n",
       "3                      No      Ch         Yes         NO  \n",
       "4                      No      Ch         Yes         NO  \n",
       "\n",
       "[5 rows x 50 columns]"
      ]
     },
     "execution_count": 3,
     "metadata": {},
     "output_type": "execute_result"
    }
   ],
   "source": [
    "df.head()"
   ]
  },
  {
   "cell_type": "code",
   "execution_count": 6,
   "metadata": {},
   "outputs": [
    {
     "data": {
      "text/plain": [
       "Caucasian          76099\n",
       "AfricanAmerican    19210\n",
       "Hispanic            2037\n",
       "Other               1506\n",
       "Asian                641\n",
       "Name: race, dtype: int64"
      ]
     },
     "execution_count": 6,
     "metadata": {},
     "output_type": "execute_result"
    }
   ],
   "source": [
    "df['race'].value_counts()"
   ]
  },
  {
   "cell_type": "code",
   "execution_count": 5,
   "metadata": {},
   "outputs": [],
   "source": [
    "df = df[df[\"race\"]!=\"?\"]"
   ]
  },
  {
   "cell_type": "code",
   "execution_count": 7,
   "metadata": {},
   "outputs": [],
   "source": [
    "df.replace({'?':np.nan},inplace=True)"
   ]
  },
  {
   "cell_type": "code",
   "execution_count": 8,
   "metadata": {},
   "outputs": [
    {
     "data": {
      "text/plain": [
       "0"
      ]
     },
     "execution_count": 8,
     "metadata": {},
     "output_type": "execute_result"
    }
   ],
   "source": [
    "df['race'].isnull().sum()"
   ]
  },
  {
   "cell_type": "code",
   "execution_count": 9,
   "metadata": {},
   "outputs": [
    {
     "data": {
      "text/plain": [
       "Index(['encounter_id', 'patient_nbr', 'race', 'gender', 'age', 'weight',\n",
       "       'admission_type_id', 'discharge_disposition_id', 'admission_source_id',\n",
       "       'time_in_hospital', 'payer_code', 'medical_specialty',\n",
       "       'num_lab_procedures', 'num_procedures', 'num_medications',\n",
       "       'number_outpatient', 'number_emergency', 'number_inpatient', 'diag_1',\n",
       "       'diag_2', 'diag_3', 'number_diagnoses', 'max_glu_serum', 'A1Cresult',\n",
       "       'metformin', 'repaglinide', 'nateglinide', 'chlorpropamide',\n",
       "       'glimepiride', 'acetohexamide', 'glipizide', 'glyburide', 'tolbutamide',\n",
       "       'pioglitazone', 'rosiglitazone', 'acarbose', 'miglitol', 'troglitazone',\n",
       "       'tolazamide', 'examide', 'citoglipton', 'insulin',\n",
       "       'glyburide-metformin', 'glipizide-metformin',\n",
       "       'glimepiride-pioglitazone', 'metformin-rosiglitazone',\n",
       "       'metformin-pioglitazone', 'change', 'diabetesMed', 'readmitted'],\n",
       "      dtype='object')"
      ]
     },
     "execution_count": 9,
     "metadata": {},
     "output_type": "execute_result"
    }
   ],
   "source": [
    "df.columns"
   ]
  },
  {
   "cell_type": "code",
   "execution_count": 10,
   "metadata": {},
   "outputs": [
    {
     "data": {
      "text/html": [
       "<div>\n",
       "<style scoped>\n",
       "    .dataframe tbody tr th:only-of-type {\n",
       "        vertical-align: middle;\n",
       "    }\n",
       "\n",
       "    .dataframe tbody tr th {\n",
       "        vertical-align: top;\n",
       "    }\n",
       "\n",
       "    .dataframe thead th {\n",
       "        text-align: right;\n",
       "    }\n",
       "</style>\n",
       "<table border=\"1\" class=\"dataframe\">\n",
       "  <thead>\n",
       "    <tr style=\"text-align: right;\">\n",
       "      <th></th>\n",
       "      <th>encounter_id</th>\n",
       "      <th>patient_nbr</th>\n",
       "      <th>admission_type_id</th>\n",
       "      <th>discharge_disposition_id</th>\n",
       "      <th>admission_source_id</th>\n",
       "      <th>time_in_hospital</th>\n",
       "      <th>num_lab_procedures</th>\n",
       "      <th>num_procedures</th>\n",
       "      <th>num_medications</th>\n",
       "      <th>number_outpatient</th>\n",
       "      <th>number_emergency</th>\n",
       "      <th>number_inpatient</th>\n",
       "      <th>number_diagnoses</th>\n",
       "    </tr>\n",
       "  </thead>\n",
       "  <tbody>\n",
       "    <tr>\n",
       "      <td>encounter_id</td>\n",
       "      <td>1.000000</td>\n",
       "      <td>0.514156</td>\n",
       "      <td>-0.157603</td>\n",
       "      <td>-0.134787</td>\n",
       "      <td>-0.114316</td>\n",
       "      <td>-0.063559</td>\n",
       "      <td>-0.027769</td>\n",
       "      <td>-0.013173</td>\n",
       "      <td>0.073461</td>\n",
       "      <td>0.104210</td>\n",
       "      <td>0.083500</td>\n",
       "      <td>0.030630</td>\n",
       "      <td>0.261780</td>\n",
       "    </tr>\n",
       "    <tr>\n",
       "      <td>patient_nbr</td>\n",
       "      <td>0.514156</td>\n",
       "      <td>1.000000</td>\n",
       "      <td>-0.012404</td>\n",
       "      <td>-0.141320</td>\n",
       "      <td>-0.035142</td>\n",
       "      <td>-0.025935</td>\n",
       "      <td>0.014934</td>\n",
       "      <td>-0.019005</td>\n",
       "      <td>0.015870</td>\n",
       "      <td>0.102738</td>\n",
       "      <td>0.061517</td>\n",
       "      <td>0.011226</td>\n",
       "      <td>0.219875</td>\n",
       "    </tr>\n",
       "    <tr>\n",
       "      <td>admission_type_id</td>\n",
       "      <td>-0.157603</td>\n",
       "      <td>-0.012404</td>\n",
       "      <td>1.000000</td>\n",
       "      <td>0.081917</td>\n",
       "      <td>0.108702</td>\n",
       "      <td>-0.012411</td>\n",
       "      <td>-0.142439</td>\n",
       "      <td>0.128800</td>\n",
       "      <td>0.079817</td>\n",
       "      <td>0.026705</td>\n",
       "      <td>-0.019493</td>\n",
       "      <td>-0.038244</td>\n",
       "      <td>-0.118798</td>\n",
       "    </tr>\n",
       "    <tr>\n",
       "      <td>discharge_disposition_id</td>\n",
       "      <td>-0.134787</td>\n",
       "      <td>-0.141320</td>\n",
       "      <td>0.081917</td>\n",
       "      <td>1.000000</td>\n",
       "      <td>0.016729</td>\n",
       "      <td>0.162860</td>\n",
       "      <td>0.023008</td>\n",
       "      <td>0.015095</td>\n",
       "      <td>0.107658</td>\n",
       "      <td>-0.009846</td>\n",
       "      <td>-0.025490</td>\n",
       "      <td>0.019554</td>\n",
       "      <td>0.042779</td>\n",
       "    </tr>\n",
       "    <tr>\n",
       "      <td>admission_source_id</td>\n",
       "      <td>-0.114316</td>\n",
       "      <td>-0.035142</td>\n",
       "      <td>0.108702</td>\n",
       "      <td>0.016729</td>\n",
       "      <td>1.000000</td>\n",
       "      <td>-0.007352</td>\n",
       "      <td>0.048765</td>\n",
       "      <td>-0.134222</td>\n",
       "      <td>-0.054908</td>\n",
       "      <td>0.025962</td>\n",
       "      <td>0.059505</td>\n",
       "      <td>0.035431</td>\n",
       "      <td>0.069833</td>\n",
       "    </tr>\n",
       "    <tr>\n",
       "      <td>time_in_hospital</td>\n",
       "      <td>-0.063559</td>\n",
       "      <td>-0.025935</td>\n",
       "      <td>-0.012411</td>\n",
       "      <td>0.162860</td>\n",
       "      <td>-0.007352</td>\n",
       "      <td>1.000000</td>\n",
       "      <td>0.317671</td>\n",
       "      <td>0.193234</td>\n",
       "      <td>0.466381</td>\n",
       "      <td>-0.009542</td>\n",
       "      <td>-0.009799</td>\n",
       "      <td>0.073408</td>\n",
       "      <td>0.220687</td>\n",
       "    </tr>\n",
       "    <tr>\n",
       "      <td>num_lab_procedures</td>\n",
       "      <td>-0.027769</td>\n",
       "      <td>0.014934</td>\n",
       "      <td>-0.142439</td>\n",
       "      <td>0.023008</td>\n",
       "      <td>0.048765</td>\n",
       "      <td>0.317671</td>\n",
       "      <td>1.000000</td>\n",
       "      <td>0.058407</td>\n",
       "      <td>0.266993</td>\n",
       "      <td>-0.008556</td>\n",
       "      <td>-0.002227</td>\n",
       "      <td>0.039739</td>\n",
       "      <td>0.151594</td>\n",
       "    </tr>\n",
       "    <tr>\n",
       "      <td>num_procedures</td>\n",
       "      <td>-0.013173</td>\n",
       "      <td>-0.019005</td>\n",
       "      <td>0.128800</td>\n",
       "      <td>0.015095</td>\n",
       "      <td>-0.134222</td>\n",
       "      <td>0.193234</td>\n",
       "      <td>0.058407</td>\n",
       "      <td>1.000000</td>\n",
       "      <td>0.385538</td>\n",
       "      <td>-0.024937</td>\n",
       "      <td>-0.038369</td>\n",
       "      <td>-0.065843</td>\n",
       "      <td>0.072339</td>\n",
       "    </tr>\n",
       "    <tr>\n",
       "      <td>num_medications</td>\n",
       "      <td>0.073461</td>\n",
       "      <td>0.015870</td>\n",
       "      <td>0.079817</td>\n",
       "      <td>0.107658</td>\n",
       "      <td>-0.054908</td>\n",
       "      <td>0.466381</td>\n",
       "      <td>0.266993</td>\n",
       "      <td>0.385538</td>\n",
       "      <td>1.000000</td>\n",
       "      <td>0.044528</td>\n",
       "      <td>0.012964</td>\n",
       "      <td>0.064993</td>\n",
       "      <td>0.258605</td>\n",
       "    </tr>\n",
       "    <tr>\n",
       "      <td>number_outpatient</td>\n",
       "      <td>0.104210</td>\n",
       "      <td>0.102738</td>\n",
       "      <td>0.026705</td>\n",
       "      <td>-0.009846</td>\n",
       "      <td>0.025962</td>\n",
       "      <td>-0.009542</td>\n",
       "      <td>-0.008556</td>\n",
       "      <td>-0.024937</td>\n",
       "      <td>0.044528</td>\n",
       "      <td>1.000000</td>\n",
       "      <td>0.090941</td>\n",
       "      <td>0.106236</td>\n",
       "      <td>0.092458</td>\n",
       "    </tr>\n",
       "    <tr>\n",
       "      <td>number_emergency</td>\n",
       "      <td>0.083500</td>\n",
       "      <td>0.061517</td>\n",
       "      <td>-0.019493</td>\n",
       "      <td>-0.025490</td>\n",
       "      <td>0.059505</td>\n",
       "      <td>-0.009799</td>\n",
       "      <td>-0.002227</td>\n",
       "      <td>-0.038369</td>\n",
       "      <td>0.012964</td>\n",
       "      <td>0.090941</td>\n",
       "      <td>1.000000</td>\n",
       "      <td>0.266382</td>\n",
       "      <td>0.054088</td>\n",
       "    </tr>\n",
       "    <tr>\n",
       "      <td>number_inpatient</td>\n",
       "      <td>0.030630</td>\n",
       "      <td>0.011226</td>\n",
       "      <td>-0.038244</td>\n",
       "      <td>0.019554</td>\n",
       "      <td>0.035431</td>\n",
       "      <td>0.073408</td>\n",
       "      <td>0.039739</td>\n",
       "      <td>-0.065843</td>\n",
       "      <td>0.064993</td>\n",
       "      <td>0.106236</td>\n",
       "      <td>0.266382</td>\n",
       "      <td>1.000000</td>\n",
       "      <td>0.103252</td>\n",
       "    </tr>\n",
       "    <tr>\n",
       "      <td>number_diagnoses</td>\n",
       "      <td>0.261780</td>\n",
       "      <td>0.219875</td>\n",
       "      <td>-0.118798</td>\n",
       "      <td>0.042779</td>\n",
       "      <td>0.069833</td>\n",
       "      <td>0.220687</td>\n",
       "      <td>0.151594</td>\n",
       "      <td>0.072339</td>\n",
       "      <td>0.258605</td>\n",
       "      <td>0.092458</td>\n",
       "      <td>0.054088</td>\n",
       "      <td>0.103252</td>\n",
       "      <td>1.000000</td>\n",
       "    </tr>\n",
       "  </tbody>\n",
       "</table>\n",
       "</div>"
      ],
      "text/plain": [
       "                          encounter_id  patient_nbr  admission_type_id  \\\n",
       "encounter_id                  1.000000     0.514156          -0.157603   \n",
       "patient_nbr                   0.514156     1.000000          -0.012404   \n",
       "admission_type_id            -0.157603    -0.012404           1.000000   \n",
       "discharge_disposition_id     -0.134787    -0.141320           0.081917   \n",
       "admission_source_id          -0.114316    -0.035142           0.108702   \n",
       "time_in_hospital             -0.063559    -0.025935          -0.012411   \n",
       "num_lab_procedures           -0.027769     0.014934          -0.142439   \n",
       "num_procedures               -0.013173    -0.019005           0.128800   \n",
       "num_medications               0.073461     0.015870           0.079817   \n",
       "number_outpatient             0.104210     0.102738           0.026705   \n",
       "number_emergency              0.083500     0.061517          -0.019493   \n",
       "number_inpatient              0.030630     0.011226          -0.038244   \n",
       "number_diagnoses              0.261780     0.219875          -0.118798   \n",
       "\n",
       "                          discharge_disposition_id  admission_source_id  \\\n",
       "encounter_id                             -0.134787            -0.114316   \n",
       "patient_nbr                              -0.141320            -0.035142   \n",
       "admission_type_id                         0.081917             0.108702   \n",
       "discharge_disposition_id                  1.000000             0.016729   \n",
       "admission_source_id                       0.016729             1.000000   \n",
       "time_in_hospital                          0.162860            -0.007352   \n",
       "num_lab_procedures                        0.023008             0.048765   \n",
       "num_procedures                            0.015095            -0.134222   \n",
       "num_medications                           0.107658            -0.054908   \n",
       "number_outpatient                        -0.009846             0.025962   \n",
       "number_emergency                         -0.025490             0.059505   \n",
       "number_inpatient                          0.019554             0.035431   \n",
       "number_diagnoses                          0.042779             0.069833   \n",
       "\n",
       "                          time_in_hospital  num_lab_procedures  \\\n",
       "encounter_id                     -0.063559           -0.027769   \n",
       "patient_nbr                      -0.025935            0.014934   \n",
       "admission_type_id                -0.012411           -0.142439   \n",
       "discharge_disposition_id          0.162860            0.023008   \n",
       "admission_source_id              -0.007352            0.048765   \n",
       "time_in_hospital                  1.000000            0.317671   \n",
       "num_lab_procedures                0.317671            1.000000   \n",
       "num_procedures                    0.193234            0.058407   \n",
       "num_medications                   0.466381            0.266993   \n",
       "number_outpatient                -0.009542           -0.008556   \n",
       "number_emergency                 -0.009799           -0.002227   \n",
       "number_inpatient                  0.073408            0.039739   \n",
       "number_diagnoses                  0.220687            0.151594   \n",
       "\n",
       "                          num_procedures  num_medications  number_outpatient  \\\n",
       "encounter_id                   -0.013173         0.073461           0.104210   \n",
       "patient_nbr                    -0.019005         0.015870           0.102738   \n",
       "admission_type_id               0.128800         0.079817           0.026705   \n",
       "discharge_disposition_id        0.015095         0.107658          -0.009846   \n",
       "admission_source_id            -0.134222        -0.054908           0.025962   \n",
       "time_in_hospital                0.193234         0.466381          -0.009542   \n",
       "num_lab_procedures              0.058407         0.266993          -0.008556   \n",
       "num_procedures                  1.000000         0.385538          -0.024937   \n",
       "num_medications                 0.385538         1.000000           0.044528   \n",
       "number_outpatient              -0.024937         0.044528           1.000000   \n",
       "number_emergency               -0.038369         0.012964           0.090941   \n",
       "number_inpatient               -0.065843         0.064993           0.106236   \n",
       "number_diagnoses                0.072339         0.258605           0.092458   \n",
       "\n",
       "                          number_emergency  number_inpatient  number_diagnoses  \n",
       "encounter_id                      0.083500          0.030630          0.261780  \n",
       "patient_nbr                       0.061517          0.011226          0.219875  \n",
       "admission_type_id                -0.019493         -0.038244         -0.118798  \n",
       "discharge_disposition_id         -0.025490          0.019554          0.042779  \n",
       "admission_source_id               0.059505          0.035431          0.069833  \n",
       "time_in_hospital                 -0.009799          0.073408          0.220687  \n",
       "num_lab_procedures               -0.002227          0.039739          0.151594  \n",
       "num_procedures                   -0.038369         -0.065843          0.072339  \n",
       "num_medications                   0.012964          0.064993          0.258605  \n",
       "number_outpatient                 0.090941          0.106236          0.092458  \n",
       "number_emergency                  1.000000          0.266382          0.054088  \n",
       "number_inpatient                  0.266382          1.000000          0.103252  \n",
       "number_diagnoses                  0.054088          0.103252          1.000000  "
      ]
     },
     "execution_count": 10,
     "metadata": {},
     "output_type": "execute_result"
    }
   ],
   "source": [
    "df.corr()"
   ]
  },
  {
   "cell_type": "code",
   "execution_count": 11,
   "metadata": {},
   "outputs": [
    {
     "data": {
      "text/plain": [
       "encounter_id                99493\n",
       "patient_nbr                 69668\n",
       "race                            5\n",
       "gender                          3\n",
       "age                            10\n",
       "weight                          9\n",
       "admission_type_id               8\n",
       "discharge_disposition_id       26\n",
       "admission_source_id            17\n",
       "time_in_hospital               14\n",
       "payer_code                     16\n",
       "medical_specialty              72\n",
       "num_lab_procedures            118\n",
       "num_procedures                  7\n",
       "num_medications                75\n",
       "number_outpatient              39\n",
       "number_emergency               33\n",
       "number_inpatient               21\n",
       "diag_1                        714\n",
       "diag_2                        745\n",
       "diag_3                        786\n",
       "number_diagnoses               16\n",
       "max_glu_serum                   4\n",
       "A1Cresult                       4\n",
       "metformin                       4\n",
       "repaglinide                     4\n",
       "nateglinide                     4\n",
       "chlorpropamide                  4\n",
       "glimepiride                     4\n",
       "acetohexamide                   2\n",
       "glipizide                       4\n",
       "glyburide                       4\n",
       "tolbutamide                     2\n",
       "pioglitazone                    4\n",
       "rosiglitazone                   4\n",
       "acarbose                        4\n",
       "miglitol                        4\n",
       "troglitazone                    2\n",
       "tolazamide                      3\n",
       "examide                         1\n",
       "citoglipton                     1\n",
       "insulin                         4\n",
       "glyburide-metformin             4\n",
       "glipizide-metformin             2\n",
       "glimepiride-pioglitazone        2\n",
       "metformin-rosiglitazone         1\n",
       "metformin-pioglitazone          2\n",
       "change                          2\n",
       "diabetesMed                     2\n",
       "readmitted                      3\n",
       "dtype: int64"
      ]
     },
     "execution_count": 11,
     "metadata": {},
     "output_type": "execute_result"
    }
   ],
   "source": [
    "df.nunique()"
   ]
  },
  {
   "cell_type": "code",
   "execution_count": 12,
   "metadata": {},
   "outputs": [
    {
     "data": {
      "text/plain": [
       "encounter_id                 0.000000\n",
       "patient_nbr                  0.000000\n",
       "race                         0.000000\n",
       "gender                       0.000000\n",
       "age                          0.000000\n",
       "weight                      96.925412\n",
       "admission_type_id            0.000000\n",
       "discharge_disposition_id     0.000000\n",
       "admission_source_id          0.000000\n",
       "time_in_hospital             0.000000\n",
       "payer_code                  39.914366\n",
       "medical_specialty           49.014504\n",
       "num_lab_procedures           0.000000\n",
       "num_procedures               0.000000\n",
       "num_medications              0.000000\n",
       "number_outpatient            0.000000\n",
       "number_emergency             0.000000\n",
       "number_inpatient             0.000000\n",
       "diag_1                       0.019097\n",
       "diag_2                       0.337712\n",
       "diag_3                       1.355874\n",
       "number_diagnoses             0.000000\n",
       "max_glu_serum                0.000000\n",
       "A1Cresult                    0.000000\n",
       "metformin                    0.000000\n",
       "repaglinide                  0.000000\n",
       "nateglinide                  0.000000\n",
       "chlorpropamide               0.000000\n",
       "glimepiride                  0.000000\n",
       "acetohexamide                0.000000\n",
       "glipizide                    0.000000\n",
       "glyburide                    0.000000\n",
       "tolbutamide                  0.000000\n",
       "pioglitazone                 0.000000\n",
       "rosiglitazone                0.000000\n",
       "acarbose                     0.000000\n",
       "miglitol                     0.000000\n",
       "troglitazone                 0.000000\n",
       "tolazamide                   0.000000\n",
       "examide                      0.000000\n",
       "citoglipton                  0.000000\n",
       "insulin                      0.000000\n",
       "glyburide-metformin          0.000000\n",
       "glipizide-metformin          0.000000\n",
       "glimepiride-pioglitazone     0.000000\n",
       "metformin-rosiglitazone      0.000000\n",
       "metformin-pioglitazone       0.000000\n",
       "change                       0.000000\n",
       "diabetesMed                  0.000000\n",
       "readmitted                   0.000000\n",
       "dtype: float64"
      ]
     },
     "execution_count": 12,
     "metadata": {},
     "output_type": "execute_result"
    }
   ],
   "source": [
    "(df.isnull().sum()/len(df))*100"
   ]
  },
  {
   "cell_type": "code",
   "execution_count": 13,
   "metadata": {},
   "outputs": [
    {
     "name": "stdout",
     "output_type": "stream",
     "text": [
      "<class 'pandas.core.frame.DataFrame'>\n",
      "Int64Index: 99493 entries, 0 to 101765\n",
      "Data columns (total 50 columns):\n",
      "encounter_id                99493 non-null int64\n",
      "patient_nbr                 99493 non-null int64\n",
      "race                        99493 non-null object\n",
      "gender                      99493 non-null object\n",
      "age                         99493 non-null object\n",
      "weight                      3059 non-null object\n",
      "admission_type_id           99493 non-null int64\n",
      "discharge_disposition_id    99493 non-null int64\n",
      "admission_source_id         99493 non-null int64\n",
      "time_in_hospital            99493 non-null int64\n",
      "payer_code                  59781 non-null object\n",
      "medical_specialty           50727 non-null object\n",
      "num_lab_procedures          99493 non-null int64\n",
      "num_procedures              99493 non-null int64\n",
      "num_medications             99493 non-null int64\n",
      "number_outpatient           99493 non-null int64\n",
      "number_emergency            99493 non-null int64\n",
      "number_inpatient            99493 non-null int64\n",
      "diag_1                      99474 non-null object\n",
      "diag_2                      99157 non-null object\n",
      "diag_3                      98144 non-null object\n",
      "number_diagnoses            99493 non-null int64\n",
      "max_glu_serum               99493 non-null object\n",
      "A1Cresult                   99493 non-null object\n",
      "metformin                   99493 non-null object\n",
      "repaglinide                 99493 non-null object\n",
      "nateglinide                 99493 non-null object\n",
      "chlorpropamide              99493 non-null object\n",
      "glimepiride                 99493 non-null object\n",
      "acetohexamide               99493 non-null object\n",
      "glipizide                   99493 non-null object\n",
      "glyburide                   99493 non-null object\n",
      "tolbutamide                 99493 non-null object\n",
      "pioglitazone                99493 non-null object\n",
      "rosiglitazone               99493 non-null object\n",
      "acarbose                    99493 non-null object\n",
      "miglitol                    99493 non-null object\n",
      "troglitazone                99493 non-null object\n",
      "tolazamide                  99493 non-null object\n",
      "examide                     99493 non-null object\n",
      "citoglipton                 99493 non-null object\n",
      "insulin                     99493 non-null object\n",
      "glyburide-metformin         99493 non-null object\n",
      "glipizide-metformin         99493 non-null object\n",
      "glimepiride-pioglitazone    99493 non-null object\n",
      "metformin-rosiglitazone     99493 non-null object\n",
      "metformin-pioglitazone      99493 non-null object\n",
      "change                      99493 non-null object\n",
      "diabetesMed                 99493 non-null object\n",
      "readmitted                  99493 non-null object\n",
      "dtypes: int64(13), object(37)\n",
      "memory usage: 38.7+ MB\n"
     ]
    }
   ],
   "source": [
    "df.info()"
   ]
  },
  {
   "cell_type": "code",
   "execution_count": 14,
   "metadata": {},
   "outputs": [],
   "source": [
    "df['readmitted']=df['readmitted'].replace({'NO':0,'<30':1,'>30':1})"
   ]
  },
  {
   "cell_type": "code",
   "execution_count": 15,
   "metadata": {},
   "outputs": [],
   "source": [
    "df.drop(['patient_nbr','encounter_id','medical_specialty'],axis=1,inplace=True)"
   ]
  },
  {
   "cell_type": "code",
   "execution_count": 16,
   "metadata": {},
   "outputs": [],
   "source": [
    "df.drop('weight',axis=1,inplace=True)#droping because of 96% Null Values"
   ]
  },
  {
   "cell_type": "code",
   "execution_count": 17,
   "metadata": {},
   "outputs": [],
   "source": [
    "df = df.drop('payer_code', axis = 1)#droping because of 40% Null Values"
   ]
  },
  {
   "cell_type": "code",
   "execution_count": 18,
   "metadata": {},
   "outputs": [],
   "source": [
    "df.drop(['diag_1','diag_2','diag_3'],axis=1,inplace=True)#droping as we have alternative\n",
    "                                                         #column no_of_diag\n"
   ]
  },
  {
   "cell_type": "code",
   "execution_count": 19,
   "metadata": {},
   "outputs": [],
   "source": [
    "df['gender']=df['gender'].replace('Unknown/Invalid','Female')#3Null Unkown values replaced with mode"
   ]
  },
  {
   "cell_type": "code",
   "execution_count": 20,
   "metadata": {},
   "outputs": [],
   "source": [
    "df['race']= df['race'].replace({'Asian':'Other','Hispanic':'Other'})"
   ]
  },
  {
   "cell_type": "code",
   "execution_count": 21,
   "metadata": {},
   "outputs": [
    {
     "data": {
      "text/plain": [
       "Caucasian          76099\n",
       "AfricanAmerican    19210\n",
       "Other               4184\n",
       "Name: race, dtype: int64"
      ]
     },
     "execution_count": 21,
     "metadata": {},
     "output_type": "execute_result"
    }
   ],
   "source": [
    "df['race'].value_counts()"
   ]
  },
  {
   "cell_type": "code",
   "execution_count": 22,
   "metadata": {},
   "outputs": [],
   "source": [
    "df['race']=df['race'].replace({'Other':0,'AfricanAmerican':1,'Caucasian':2})"
   ]
  },
  {
   "cell_type": "code",
   "execution_count": 23,
   "metadata": {},
   "outputs": [],
   "source": [
    "df['total_services']=df['number_outpatient']+df['number_emergency']+df['number_inpatient']\n",
    "#did Feature Extraction Which shows Total Services Used by a patient"
   ]
  },
  {
   "cell_type": "code",
   "execution_count": 24,
   "metadata": {},
   "outputs": [],
   "source": [
    "df.drop(['number_outpatient','number_emergency','number_inpatient'],axis=1,inplace=True)"
   ]
  },
  {
   "cell_type": "code",
   "execution_count": 25,
   "metadata": {},
   "outputs": [
    {
     "data": {
      "text/html": [
       "<div>\n",
       "<style scoped>\n",
       "    .dataframe tbody tr th:only-of-type {\n",
       "        vertical-align: middle;\n",
       "    }\n",
       "\n",
       "    .dataframe tbody tr th {\n",
       "        vertical-align: top;\n",
       "    }\n",
       "\n",
       "    .dataframe thead th {\n",
       "        text-align: right;\n",
       "    }\n",
       "</style>\n",
       "<table border=\"1\" class=\"dataframe\">\n",
       "  <thead>\n",
       "    <tr style=\"text-align: right;\">\n",
       "      <th></th>\n",
       "      <th>race</th>\n",
       "      <th>gender</th>\n",
       "      <th>age</th>\n",
       "      <th>admission_type_id</th>\n",
       "      <th>discharge_disposition_id</th>\n",
       "      <th>admission_source_id</th>\n",
       "      <th>time_in_hospital</th>\n",
       "      <th>num_lab_procedures</th>\n",
       "      <th>num_procedures</th>\n",
       "      <th>num_medications</th>\n",
       "      <th>...</th>\n",
       "      <th>insulin</th>\n",
       "      <th>glyburide-metformin</th>\n",
       "      <th>glipizide-metformin</th>\n",
       "      <th>glimepiride-pioglitazone</th>\n",
       "      <th>metformin-rosiglitazone</th>\n",
       "      <th>metformin-pioglitazone</th>\n",
       "      <th>change</th>\n",
       "      <th>diabetesMed</th>\n",
       "      <th>readmitted</th>\n",
       "      <th>total_services</th>\n",
       "    </tr>\n",
       "  </thead>\n",
       "  <tbody>\n",
       "    <tr>\n",
       "      <td>34</td>\n",
       "      <td>2</td>\n",
       "      <td>Female</td>\n",
       "      <td>[70-80)</td>\n",
       "      <td>2</td>\n",
       "      <td>11</td>\n",
       "      <td>2</td>\n",
       "      <td>5</td>\n",
       "      <td>46</td>\n",
       "      <td>2</td>\n",
       "      <td>20</td>\n",
       "      <td>...</td>\n",
       "      <td>Down</td>\n",
       "      <td>No</td>\n",
       "      <td>No</td>\n",
       "      <td>No</td>\n",
       "      <td>No</td>\n",
       "      <td>No</td>\n",
       "      <td>Ch</td>\n",
       "      <td>Yes</td>\n",
       "      <td>0</td>\n",
       "      <td>0</td>\n",
       "    </tr>\n",
       "    <tr>\n",
       "      <td>44</td>\n",
       "      <td>2</td>\n",
       "      <td>Female</td>\n",
       "      <td>[80-90)</td>\n",
       "      <td>1</td>\n",
       "      <td>11</td>\n",
       "      <td>7</td>\n",
       "      <td>7</td>\n",
       "      <td>72</td>\n",
       "      <td>1</td>\n",
       "      <td>27</td>\n",
       "      <td>...</td>\n",
       "      <td>Steady</td>\n",
       "      <td>No</td>\n",
       "      <td>No</td>\n",
       "      <td>No</td>\n",
       "      <td>No</td>\n",
       "      <td>No</td>\n",
       "      <td>No</td>\n",
       "      <td>Yes</td>\n",
       "      <td>0</td>\n",
       "      <td>0</td>\n",
       "    </tr>\n",
       "    <tr>\n",
       "      <td>64</td>\n",
       "      <td>1</td>\n",
       "      <td>Female</td>\n",
       "      <td>[50-60)</td>\n",
       "      <td>1</td>\n",
       "      <td>11</td>\n",
       "      <td>7</td>\n",
       "      <td>4</td>\n",
       "      <td>58</td>\n",
       "      <td>1</td>\n",
       "      <td>16</td>\n",
       "      <td>...</td>\n",
       "      <td>Down</td>\n",
       "      <td>No</td>\n",
       "      <td>No</td>\n",
       "      <td>No</td>\n",
       "      <td>No</td>\n",
       "      <td>No</td>\n",
       "      <td>Ch</td>\n",
       "      <td>Yes</td>\n",
       "      <td>0</td>\n",
       "      <td>0</td>\n",
       "    </tr>\n",
       "    <tr>\n",
       "      <td>78</td>\n",
       "      <td>2</td>\n",
       "      <td>Female</td>\n",
       "      <td>[50-60)</td>\n",
       "      <td>2</td>\n",
       "      <td>11</td>\n",
       "      <td>4</td>\n",
       "      <td>2</td>\n",
       "      <td>35</td>\n",
       "      <td>1</td>\n",
       "      <td>10</td>\n",
       "      <td>...</td>\n",
       "      <td>Up</td>\n",
       "      <td>No</td>\n",
       "      <td>No</td>\n",
       "      <td>No</td>\n",
       "      <td>No</td>\n",
       "      <td>No</td>\n",
       "      <td>Ch</td>\n",
       "      <td>Yes</td>\n",
       "      <td>0</td>\n",
       "      <td>1</td>\n",
       "    </tr>\n",
       "    <tr>\n",
       "      <td>100</td>\n",
       "      <td>2</td>\n",
       "      <td>Male</td>\n",
       "      <td>[70-80)</td>\n",
       "      <td>1</td>\n",
       "      <td>11</td>\n",
       "      <td>7</td>\n",
       "      <td>9</td>\n",
       "      <td>56</td>\n",
       "      <td>2</td>\n",
       "      <td>30</td>\n",
       "      <td>...</td>\n",
       "      <td>Steady</td>\n",
       "      <td>No</td>\n",
       "      <td>No</td>\n",
       "      <td>No</td>\n",
       "      <td>No</td>\n",
       "      <td>No</td>\n",
       "      <td>No</td>\n",
       "      <td>Yes</td>\n",
       "      <td>0</td>\n",
       "      <td>0</td>\n",
       "    </tr>\n",
       "    <tr>\n",
       "      <td>...</td>\n",
       "      <td>...</td>\n",
       "      <td>...</td>\n",
       "      <td>...</td>\n",
       "      <td>...</td>\n",
       "      <td>...</td>\n",
       "      <td>...</td>\n",
       "      <td>...</td>\n",
       "      <td>...</td>\n",
       "      <td>...</td>\n",
       "      <td>...</td>\n",
       "      <td>...</td>\n",
       "      <td>...</td>\n",
       "      <td>...</td>\n",
       "      <td>...</td>\n",
       "      <td>...</td>\n",
       "      <td>...</td>\n",
       "      <td>...</td>\n",
       "      <td>...</td>\n",
       "      <td>...</td>\n",
       "      <td>...</td>\n",
       "      <td>...</td>\n",
       "    </tr>\n",
       "    <tr>\n",
       "      <td>101308</td>\n",
       "      <td>0</td>\n",
       "      <td>Female</td>\n",
       "      <td>[80-90)</td>\n",
       "      <td>1</td>\n",
       "      <td>11</td>\n",
       "      <td>7</td>\n",
       "      <td>2</td>\n",
       "      <td>45</td>\n",
       "      <td>3</td>\n",
       "      <td>8</td>\n",
       "      <td>...</td>\n",
       "      <td>No</td>\n",
       "      <td>No</td>\n",
       "      <td>No</td>\n",
       "      <td>No</td>\n",
       "      <td>No</td>\n",
       "      <td>No</td>\n",
       "      <td>No</td>\n",
       "      <td>No</td>\n",
       "      <td>0</td>\n",
       "      <td>0</td>\n",
       "    </tr>\n",
       "    <tr>\n",
       "      <td>101494</td>\n",
       "      <td>0</td>\n",
       "      <td>Male</td>\n",
       "      <td>[80-90)</td>\n",
       "      <td>2</td>\n",
       "      <td>11</td>\n",
       "      <td>7</td>\n",
       "      <td>9</td>\n",
       "      <td>54</td>\n",
       "      <td>2</td>\n",
       "      <td>11</td>\n",
       "      <td>...</td>\n",
       "      <td>Down</td>\n",
       "      <td>No</td>\n",
       "      <td>No</td>\n",
       "      <td>No</td>\n",
       "      <td>No</td>\n",
       "      <td>No</td>\n",
       "      <td>Ch</td>\n",
       "      <td>Yes</td>\n",
       "      <td>0</td>\n",
       "      <td>2</td>\n",
       "    </tr>\n",
       "    <tr>\n",
       "      <td>101507</td>\n",
       "      <td>2</td>\n",
       "      <td>Female</td>\n",
       "      <td>[70-80)</td>\n",
       "      <td>2</td>\n",
       "      <td>11</td>\n",
       "      <td>7</td>\n",
       "      <td>4</td>\n",
       "      <td>50</td>\n",
       "      <td>2</td>\n",
       "      <td>15</td>\n",
       "      <td>...</td>\n",
       "      <td>No</td>\n",
       "      <td>No</td>\n",
       "      <td>No</td>\n",
       "      <td>No</td>\n",
       "      <td>No</td>\n",
       "      <td>No</td>\n",
       "      <td>No</td>\n",
       "      <td>No</td>\n",
       "      <td>0</td>\n",
       "      <td>2</td>\n",
       "    </tr>\n",
       "    <tr>\n",
       "      <td>101547</td>\n",
       "      <td>2</td>\n",
       "      <td>Female</td>\n",
       "      <td>[80-90)</td>\n",
       "      <td>1</td>\n",
       "      <td>11</td>\n",
       "      <td>7</td>\n",
       "      <td>3</td>\n",
       "      <td>54</td>\n",
       "      <td>0</td>\n",
       "      <td>17</td>\n",
       "      <td>...</td>\n",
       "      <td>No</td>\n",
       "      <td>No</td>\n",
       "      <td>No</td>\n",
       "      <td>No</td>\n",
       "      <td>No</td>\n",
       "      <td>No</td>\n",
       "      <td>No</td>\n",
       "      <td>No</td>\n",
       "      <td>0</td>\n",
       "      <td>6</td>\n",
       "    </tr>\n",
       "    <tr>\n",
       "      <td>101704</td>\n",
       "      <td>2</td>\n",
       "      <td>Female</td>\n",
       "      <td>[80-90)</td>\n",
       "      <td>1</td>\n",
       "      <td>11</td>\n",
       "      <td>7</td>\n",
       "      <td>4</td>\n",
       "      <td>41</td>\n",
       "      <td>3</td>\n",
       "      <td>25</td>\n",
       "      <td>...</td>\n",
       "      <td>Up</td>\n",
       "      <td>No</td>\n",
       "      <td>No</td>\n",
       "      <td>No</td>\n",
       "      <td>No</td>\n",
       "      <td>No</td>\n",
       "      <td>Ch</td>\n",
       "      <td>Yes</td>\n",
       "      <td>0</td>\n",
       "      <td>1</td>\n",
       "    </tr>\n",
       "  </tbody>\n",
       "</table>\n",
       "<p>1608 rows × 40 columns</p>\n",
       "</div>"
      ],
      "text/plain": [
       "        race  gender      age  admission_type_id  discharge_disposition_id  \\\n",
       "34         2  Female  [70-80)                  2                        11   \n",
       "44         2  Female  [80-90)                  1                        11   \n",
       "64         1  Female  [50-60)                  1                        11   \n",
       "78         2  Female  [50-60)                  2                        11   \n",
       "100        2    Male  [70-80)                  1                        11   \n",
       "...      ...     ...      ...                ...                       ...   \n",
       "101308     0  Female  [80-90)                  1                        11   \n",
       "101494     0    Male  [80-90)                  2                        11   \n",
       "101507     2  Female  [70-80)                  2                        11   \n",
       "101547     2  Female  [80-90)                  1                        11   \n",
       "101704     2  Female  [80-90)                  1                        11   \n",
       "\n",
       "        admission_source_id  time_in_hospital  num_lab_procedures  \\\n",
       "34                        2                 5                  46   \n",
       "44                        7                 7                  72   \n",
       "64                        7                 4                  58   \n",
       "78                        4                 2                  35   \n",
       "100                       7                 9                  56   \n",
       "...                     ...               ...                 ...   \n",
       "101308                    7                 2                  45   \n",
       "101494                    7                 9                  54   \n",
       "101507                    7                 4                  50   \n",
       "101547                    7                 3                  54   \n",
       "101704                    7                 4                  41   \n",
       "\n",
       "        num_procedures  num_medications  ...  insulin glyburide-metformin  \\\n",
       "34                   2               20  ...     Down                  No   \n",
       "44                   1               27  ...   Steady                  No   \n",
       "64                   1               16  ...     Down                  No   \n",
       "78                   1               10  ...       Up                  No   \n",
       "100                  2               30  ...   Steady                  No   \n",
       "...                ...              ...  ...      ...                 ...   \n",
       "101308               3                8  ...       No                  No   \n",
       "101494               2               11  ...     Down                  No   \n",
       "101507               2               15  ...       No                  No   \n",
       "101547               0               17  ...       No                  No   \n",
       "101704               3               25  ...       Up                  No   \n",
       "\n",
       "       glipizide-metformin glimepiride-pioglitazone metformin-rosiglitazone  \\\n",
       "34                      No                       No                      No   \n",
       "44                      No                       No                      No   \n",
       "64                      No                       No                      No   \n",
       "78                      No                       No                      No   \n",
       "100                     No                       No                      No   \n",
       "...                    ...                      ...                     ...   \n",
       "101308                  No                       No                      No   \n",
       "101494                  No                       No                      No   \n",
       "101507                  No                       No                      No   \n",
       "101547                  No                       No                      No   \n",
       "101704                  No                       No                      No   \n",
       "\n",
       "       metformin-pioglitazone change diabetesMed readmitted total_services  \n",
       "34                         No     Ch         Yes          0              0  \n",
       "44                         No     No         Yes          0              0  \n",
       "64                         No     Ch         Yes          0              0  \n",
       "78                         No     Ch         Yes          0              1  \n",
       "100                        No     No         Yes          0              0  \n",
       "...                       ...    ...         ...        ...            ...  \n",
       "101308                     No     No          No          0              0  \n",
       "101494                     No     Ch         Yes          0              2  \n",
       "101507                     No     No          No          0              2  \n",
       "101547                     No     No          No          0              6  \n",
       "101704                     No     Ch         Yes          0              1  \n",
       "\n",
       "[1608 rows x 40 columns]"
      ]
     },
     "execution_count": 25,
     "metadata": {},
     "output_type": "execute_result"
    }
   ],
   "source": [
    "df[df['discharge_disposition_id']==11]"
   ]
  },
  {
   "cell_type": "code",
   "execution_count": 26,
   "metadata": {},
   "outputs": [],
   "source": [
    "df['discharge_disposition_id'].replace({19:11,20:11,21:11,13:11,14:11},inplace=True)\n",
    "#Combined all those23 who died"
   ]
  },
  {
   "cell_type": "code",
   "execution_count": 27,
   "metadata": {},
   "outputs": [],
   "source": [
    "df=df[df.discharge_disposition_id != 11]# removed people who died from the dataset"
   ]
  },
  {
   "cell_type": "code",
   "execution_count": null,
   "metadata": {},
   "outputs": [],
   "source": []
  },
  {
   "cell_type": "code",
   "execution_count": 28,
   "metadata": {},
   "outputs": [
    {
     "data": {
      "text/plain": [
       "1    51306\n",
       "3    18312\n",
       "2    17445\n",
       "6     5141\n",
       "5     4561\n",
       "8      317\n",
       "7       17\n",
       "4       10\n",
       "Name: admission_type_id, dtype: int64"
      ]
     },
     "execution_count": 28,
     "metadata": {},
     "output_type": "execute_result"
    }
   ],
   "source": [
    "df['admission_type_id'].value_counts()"
   ]
  },
  {
   "cell_type": "code",
   "execution_count": 29,
   "metadata": {},
   "outputs": [],
   "source": [
    "df['admission_type_id'] = df['admission_type_id'].replace(2,1)\n",
    "df['admission_type_id'] = df['admission_type_id'].replace(7,1)\n",
    "df['admission_type_id'] = df['admission_type_id'].replace(6,5)\n",
    "df['admission_type_id'] = df['admission_type_id'].replace(8,5)\n",
    "\n",
    "df['discharge_disposition_id'] = df['discharge_disposition_id'].replace(6,1)\n",
    "df['discharge_disposition_id'] = df['discharge_disposition_id'].replace(8,1)\n",
    "df['discharge_disposition_id'] = df['discharge_disposition_id'].replace(9,1)\n",
    "df['discharge_disposition_id'] = df['discharge_disposition_id'].replace(13,1)\n",
    "df['discharge_disposition_id'] = df['discharge_disposition_id'].replace(3,2)\n",
    "df['discharge_disposition_id'] = df['discharge_disposition_id'].replace(4,2)\n",
    "df['discharge_disposition_id'] = df['discharge_disposition_id'].replace(5,2)\n",
    "df['discharge_disposition_id'] = df['discharge_disposition_id'].replace(14,2)\n",
    "df['discharge_disposition_id'] = df['discharge_disposition_id'].replace(22,2)\n",
    "df['discharge_disposition_id'] = df['discharge_disposition_id'].replace(23,2)\n",
    "df['discharge_disposition_id'] = df['discharge_disposition_id'].replace(24,2)\n",
    "df['discharge_disposition_id'] = df['discharge_disposition_id'].replace(12,10)\n",
    "df['discharge_disposition_id'] = df['discharge_disposition_id'].replace(15,10)\n",
    "df['discharge_disposition_id'] = df['discharge_disposition_id'].replace(16,10)\n",
    "df['discharge_disposition_id'] = df['discharge_disposition_id'].replace(17,10)\n",
    "df['discharge_disposition_id'] = df['discharge_disposition_id'].replace(25,18)\n",
    "df['discharge_disposition_id'] = df['discharge_disposition_id'].replace(26,18)\n",
    "\n",
    "df['admission_source_id'] = df['admission_source_id'].replace(2,1)\n",
    "df['admission_source_id'] = df['admission_source_id'].replace(3,1)\n",
    "df['admission_source_id'] = df['admission_source_id'].replace(5,4)\n",
    "df['admission_source_id'] = df['admission_source_id'].replace(6,4)\n",
    "df['admission_source_id'] = df['admission_source_id'].replace(10,4)\n",
    "df['admission_source_id'] = df['admission_source_id'].replace(22,4)\n",
    "df['admission_source_id'] = df['admission_source_id'].replace(25,4)\n",
    "df['admission_source_id'] = df['admission_source_id'].replace(15,9)\n",
    "df['admission_source_id'] = df['admission_source_id'].replace(17,9)\n",
    "df['admission_source_id'] = df['admission_source_id'].replace(20,9)\n",
    "df['admission_source_id'] = df['admission_source_id'].replace(21,9)\n",
    "df['admission_source_id'] = df['admission_source_id'].replace(13,11)\n",
    "df['admission_source_id'] = df['admission_source_id'].replace(14,11)\n"
   ]
  },
  {
   "cell_type": "code",
   "execution_count": 30,
   "metadata": {},
   "outputs": [],
   "source": [
    "df['gender']=df['gender'].replace({'Male':0,'Female':1})"
   ]
  },
  {
   "cell_type": "code",
   "execution_count": 31,
   "metadata": {},
   "outputs": [],
   "source": [
    "df['age']=df['age'].replace({'[70-80)':75,'[60-70)':65,'[50-60)':55,'[80-90)':85,'[40-50)':45,'[30-40)':35,'[90-100)':95,'[20-30)':25,'[10-20)':15,'[0-10)':5})\n"
   ]
  },
  {
   "cell_type": "code",
   "execution_count": 32,
   "metadata": {},
   "outputs": [],
   "source": [
    "df['max_glu_serum']=df['max_glu_serum'].replace({'>300':1,'>200':1,'Norm':0,'None':-1})\n",
    "#Combined >300 & >200 because above 200 glucose level is dangerous"
   ]
  },
  {
   "cell_type": "code",
   "execution_count": 33,
   "metadata": {},
   "outputs": [],
   "source": [
    "df['A1Cresult']=df['A1Cresult'].replace({'>7':1,'>8':1,'Norm':0,'None':-1})\n",
    "#Combined >7 & >8 because above 200 glucose level is dangerous"
   ]
  },
  {
   "cell_type": "markdown",
   "metadata": {},
   "source": [
    "df['metformin']=df['metformin'].replace({'Steady':1,'Up':1,'Down':1,'No':0})\n",
    "df['repaglinide']=df['repaglinide'].replace({'Steady':1,'Up':1,'Down':1,'No':0})\n",
    "df['nateglinide']=df['nateglinide'].replace({'Steady':1,'Up':1,'Down':1,'No':0})\n",
    "df['chlorpropamide']=df['chlorpropamide'].replace({'Steady':1,'Up':1,'Down':1,'No':0})\n",
    "df['glimepiride']=df['glimepiride'].replace({'Steady':1,'Up':1,'Down':1,'No':0})\n",
    "df['acetohexamide']=df['acetohexamide'].replace({'Steady':1,'No':0})\n",
    "df['glipizide']=df['glipizide'].replace({'Steady':1,'Up':1,'Down':1,'No':0})\n",
    "df['glyburide']=df['glyburide'].replace({'Steady':1,'Up':1,'Down':1,'No':0})\n",
    "df['tolbutamide']=df['tolbutamide'].replace({'Steady':1,'Up':1,'Down':1,'No':0})\n",
    "df['rosiglitazone']=df['rosiglitazone'].replace({'Steady':1,'Up':1,'Down':1,'No':0})\n",
    "df['acarbose']=df['acarbose'].replace({'Steady':1,'Up':1,'Down':1,'No':0})\n",
    "df['miglitol']=df['miglitol'].replace({'Steady':1,'Up':1,'Down':1,'No':0})\n",
    "df['troglitazone']=df['troglitazone'].replace({'Steady':1,'Up':1,'Down':1,'No':0})\n",
    "df['tolazamide']=df['tolazamide'].replace({'Steady':1,'Up':1,'Down':1,'No':0})\n",
    "df['insulin']=df['insulin'].replace({'Steady':1,'Up':1,'Down':1,'No':0})\n",
    "df['glyburide-metformin']=df['glyburide-metformin'].replace({'Steady':1,'Up':1,'Down':1,'No':0})\n",
    "df['glipizide-metformin']=df['glipizide-metformin'].replace({'Steady':1,'Up':1,'Down':1,'No':0})\n",
    "df['glimepiride-pioglitazone']=df['glimepiride-pioglitazone'].replace({'Steady':1,'Up':1,'Down':1,'No':0})\n",
    "df['metformin-rosiglitazone']=df['metformin-rosiglitazone'].replace({'Steady':1,'Up':1,'Down':1,'No':0})\n",
    "df['metformin-pioglitazone']=df['metformin-pioglitazone'].replace({'Steady':1,'Up':1,'Down':1,'No':0})\n",
    "df['pioglitazone']=df['pioglitazone'].replace({'Steady':1,'Up':1,'Down':1,'No':0})\n",
    "df['citoglipton']=df['citoglipton'].replace({'No':0})\n",
    "df['examide']=df['examide'].replace({'No':0})"
   ]
  },
  {
   "cell_type": "code",
   "execution_count": 34,
   "metadata": {},
   "outputs": [],
   "source": [
    "df['metformin']=df['metformin'].replace({'Steady':1,'Up':2,'Down':0,'No':-1})\n",
    "df['repaglinide']=df['repaglinide'].replace({'Steady':1,'Up':2,'Down':0,'No':-1})\n",
    "df['nateglinide']=df['nateglinide'].replace({'Steady':1,'Up':2,'Down':0,'No':-1})\n",
    "df['chlorpropamide']=df['chlorpropamide'].replace({'Steady':1,'Up':2,'Down':0,'No':-1})\n",
    "df['glimepiride']=df['glimepiride'].replace({'Steady':1,'Up':2,'Down':0,'No':-1})\n",
    "df['acetohexamide']=df['acetohexamide'].replace({'Steady':1,'Up':2,'Down':0,'No':-1})\n",
    "df['glipizide']=df['glipizide'].replace({'Steady':1,'Up':2,'Down':0,'No':-1})\n",
    "df['glyburide']=df['glyburide'].replace({'Steady':1,'Up':2,'Down':0,'No':-1})\n",
    "df['tolbutamide']=df['tolbutamide'].replace({'Steady':1,'Up':2,'Down':0,'No':-1})\n",
    "df['rosiglitazone']=df['rosiglitazone'].replace({'Steady':1,'Up':2,'Down':0,'No':-1})\n",
    "df['acarbose']=df['acarbose'].replace({'Steady':1,'Up':2,'Down':0,'No':-1})\n",
    "df['miglitol']=df['miglitol'].replace({'Steady':1,'Up':2,'Down':0,'No':-1})\n",
    "df['troglitazone']=df['troglitazone'].replace({'Steady':1,'Up':2,'Down':0,'No':-1})\n",
    "df['tolazamide']=df['tolazamide'].replace({'Steady':1,'Up':2,'Down':0,'No':-1})\n",
    "df['insulin']=df['insulin'].replace({'Steady':1,'Up':2,'Down':0,'No':-1})\n",
    "df['glyburide-metformin']=df['glyburide-metformin'].replace({'Steady':1,'Up':2,'Down':0,'No':-1})\n",
    "df['glipizide-metformin']=df['glipizide-metformin'].replace({'Steady':1,'Up':2,'Down':0,'No':-1})\n",
    "df['glimepiride-pioglitazone']=df['glimepiride-pioglitazone'].replace({'Steady':1,'Up':2,'Down':0,'No':-1})\n",
    "df['metformin-rosiglitazone']=df['metformin-rosiglitazone'].replace({'Steady':1,'Up':2,'Down':0,'No':-1})\n",
    "df['metformin-pioglitazone']=df['metformin-pioglitazone'].replace({'Steady':1,'Up':2,'Down':0,'No':-1})\n",
    "df['pioglitazone']=df['pioglitazone'].replace({'Steady':1,'Up':2,'Down':0,'No':-1})\n",
    "df['citoglipton']=df['citoglipton'].replace({'No':0})\n",
    "df['examide']=df['examide'].replace({'No':0})"
   ]
  },
  {
   "cell_type": "code",
   "execution_count": 35,
   "metadata": {},
   "outputs": [],
   "source": [
    "df['change']=df['change'].replace({'Ch':1,'No':0})"
   ]
  },
  {
   "cell_type": "code",
   "execution_count": 36,
   "metadata": {},
   "outputs": [],
   "source": [
    "df['diabetesMed']=df['diabetesMed'].replace({'Yes':1,'No':0})"
   ]
  },
  {
   "cell_type": "code",
   "execution_count": 37,
   "metadata": {},
   "outputs": [
    {
     "data": {
      "text/plain": [
       "Index(['race', 'gender', 'age', 'admission_type_id',\n",
       "       'discharge_disposition_id', 'admission_source_id', 'time_in_hospital',\n",
       "       'num_lab_procedures', 'num_procedures', 'num_medications',\n",
       "       'number_diagnoses', 'max_glu_serum', 'A1Cresult', 'metformin',\n",
       "       'repaglinide', 'nateglinide', 'chlorpropamide', 'glimepiride',\n",
       "       'acetohexamide', 'glipizide', 'glyburide', 'tolbutamide',\n",
       "       'pioglitazone', 'rosiglitazone', 'acarbose', 'miglitol', 'troglitazone',\n",
       "       'tolazamide', 'examide', 'citoglipton', 'insulin',\n",
       "       'glyburide-metformin', 'glipizide-metformin',\n",
       "       'glimepiride-pioglitazone', 'metformin-rosiglitazone',\n",
       "       'metformin-pioglitazone', 'change', 'diabetesMed', 'readmitted',\n",
       "       'total_services'],\n",
       "      dtype='object')"
      ]
     },
     "execution_count": 37,
     "metadata": {},
     "output_type": "execute_result"
    }
   ],
   "source": [
    "df.columns"
   ]
  },
  {
   "cell_type": "code",
   "execution_count": 38,
   "metadata": {},
   "outputs": [],
   "source": [
    "#df['Treatment']=df['metformin']+df['repaglinide']+df['nateglinide']+df['chlorpropamide']+df['glimepiride']+df['acetohexamide']+df['glipizide']+df['glyburide']+df['tolbutamide']+df['pioglitazone']+df['rosiglitazone']+df['acarbose']+df['miglitol']+df['troglitazone']+df['tolazamide']+df['glyburide-metformin']+df['glipizide-metformin']+df['glimepiride-pioglitazone']+df['metformin-rosiglitazone']+df['metformin-pioglitazone']+df['examide']+df['citoglipton']"
   ]
  },
  {
   "cell_type": "markdown",
   "metadata": {},
   "source": [
    "df['Treatment'].value_counts()"
   ]
  },
  {
   "cell_type": "markdown",
   "metadata": {},
   "source": [
    "df[df['Treatment']==6]['readmitted'].value_counts()"
   ]
  },
  {
   "cell_type": "code",
   "execution_count": 39,
   "metadata": {},
   "outputs": [],
   "source": [
    "#df['Treatment']=df['Treatment'].replace({2:1,3:1,4:1,5:1,6:1})\n",
    "\n"
   ]
  },
  {
   "cell_type": "code",
   "execution_count": 40,
   "metadata": {},
   "outputs": [],
   "source": [
    "df.drop(['examide','citoglipton'],axis=1,inplace=True)"
   ]
  },
  {
   "cell_type": "markdown",
   "metadata": {},
   "source": [
    "'metformin','repaglinide', 'nateglinide', 'chlorpropamide', 'glimepiride',\n",
    "       'acetohexamide', 'glipizide', 'glyburide', 'tolbutamide',\n",
    "       'pioglitazone', 'rosiglitazone', 'acarbose', 'miglitol', 'troglitazone',\n",
    "       'tolazamide', 'glyburide-metformin', 'glipizide-metformin',\n",
    "       'glimepiride-pioglitazone', 'metformin-rosiglitazone',\n",
    "       'metformin-pioglitazone'"
   ]
  },
  {
   "cell_type": "code",
   "execution_count": 41,
   "metadata": {},
   "outputs": [],
   "source": [
    "num=['num_lab_procedures', 'num_medications']"
   ]
  },
  {
   "cell_type": "code",
   "execution_count": 42,
   "metadata": {},
   "outputs": [
    {
     "data": {
      "image/png": "[encoded data removed]",
      "text/plain": [
       "<Figure size 432x288 with 1 Axes>"
      ]
     },
     "metadata": {
      "needs_background": "light"
     },
     "output_type": "display_data"
    },
    {
     "data": {
      "image/png": "[encoded data removed]",
      "text/plain": [
       "<Figure size 432x288 with 1 Axes>"
      ]
     },
     "metadata": {
      "needs_background": "light"
     },
     "output_type": "display_data"
    }
   ],
   "source": [
    "for i in num:\n",
    "    sns.distplot(df[i])\n",
    "    plt.show()"
   ]
  },
  {
   "cell_type": "code",
   "execution_count": 43,
   "metadata": {},
   "outputs": [],
   "source": [
    "#from scipy.stats import shapiro"
   ]
  },
  {
   "cell_type": "code",
   "execution_count": 44,
   "metadata": {},
   "outputs": [],
   "source": [
    "for i in num:\n",
    "    df[i]=np.sqrt(df[i])"
   ]
  },
  {
   "cell_type": "code",
   "execution_count": 45,
   "metadata": {},
   "outputs": [
    {
     "data": {
      "image/png": "[encoded data removed]",
      "text/plain": [
       "<Figure size 432x288 with 1 Axes>"
      ]
     },
     "metadata": {
      "needs_background": "light"
     },
     "output_type": "display_data"
    },
    {
     "data": {
      "image/png": "[encoded data removed]",
      "text/plain": [
       "<Figure size 432x288 with 1 Axes>"
      ]
     },
     "metadata": {
      "needs_background": "light"
     },
     "output_type": "display_data"
    }
   ],
   "source": [
    "for i in num:\n",
    "    sns.distplot(df[i])\n",
    "    plt.show()"
   ]
  },
  {
   "cell_type": "code",
   "execution_count": 46,
   "metadata": {},
   "outputs": [],
   "source": [
    "from sklearn.metrics import roc_auc_score,roc_curve,accuracy_score,confusion_matrix"
   ]
  },
  {
   "cell_type": "code",
   "execution_count": 47,
   "metadata": {},
   "outputs": [],
   "source": [
    "#df=df.drop(['admission_source_id'],axis=1)\n",
    "#Removed ID's\n"
   ]
  },
  {
   "cell_type": "code",
   "execution_count": 48,
   "metadata": {},
   "outputs": [
    {
     "data": {
      "text/plain": [
       "('admission_type_id', 'discharge_disposition_id')"
      ]
     },
     "execution_count": 48,
     "metadata": {},
     "output_type": "execute_result"
    }
   ],
   "source": [
    "'admission_type_id','discharge_disposition_id',"
   ]
  },
  {
   "cell_type": "code",
   "execution_count": 49,
   "metadata": {},
   "outputs": [],
   "source": [
    "x=df.drop(['readmitted'],axis=1)\n",
    "y=df['readmitted'].values"
   ]
  },
  {
   "cell_type": "code",
   "execution_count": 53,
   "metadata": {},
   "outputs": [],
   "source": [
    "x_train,x_test,y_train,y_test=train_test_split(x,y,test_size=0.20,random_state=0,stratify=y)"
   ]
  },
  {
   "cell_type": "code",
   "execution_count": 54,
   "metadata": {},
   "outputs": [],
   "source": [
    "from sklearn.model_selection import train_test_split"
   ]
  },
  {
   "cell_type": "code",
   "execution_count": 55,
   "metadata": {},
   "outputs": [
    {
     "data": {
      "text/plain": [
       "Index(['race', 'gender', 'age', 'admission_type_id',\n",
       "       'discharge_disposition_id', 'admission_source_id', 'time_in_hospital',\n",
       "       'num_lab_procedures', 'num_procedures', 'num_medications',\n",
       "       'number_diagnoses', 'max_glu_serum', 'A1Cresult', 'metformin',\n",
       "       'repaglinide', 'nateglinide', 'chlorpropamide', 'glimepiride',\n",
       "       'acetohexamide', 'glipizide', 'glyburide', 'tolbutamide',\n",
       "       'pioglitazone', 'rosiglitazone', 'acarbose', 'miglitol', 'troglitazone',\n",
       "       'tolazamide', 'insulin', 'glyburide-metformin', 'glipizide-metformin',\n",
       "       'glimepiride-pioglitazone', 'metformin-rosiglitazone',\n",
       "       'metformin-pioglitazone', 'change', 'diabetesMed', 'total_services'],\n",
       "      dtype='object')"
      ]
     },
     "execution_count": 55,
     "metadata": {},
     "output_type": "execute_result"
    }
   ],
   "source": [
    "x.columns"
   ]
  },
  {
   "cell_type": "markdown",
   "metadata": {},
   "source": [
    "# LOGIT MODEL "
   ]
  },
  {
   "cell_type": "code",
   "execution_count": 56,
   "metadata": {},
   "outputs": [
    {
     "name": "stderr",
     "output_type": "stream",
     "text": [
      "/opt/anaconda3/lib/python3.7/site-packages/numpy/core/fromnumeric.py:2495: FutureWarning: Method .ptp is deprecated and will be removed in a future version. Use numpy.ptp instead.\n",
      "  return ptp(axis=axis, out=out, **kwargs)\n"
     ]
    }
   ],
   "source": [
    "import statsmodels.api as sm\n",
    "xc=sm.add_constant(x)\n",
    "model=sm.Logit(y,xc)"
   ]
  },
  {
   "cell_type": "code",
   "execution_count": 57,
   "metadata": {},
   "outputs": [
    {
     "name": "stdout",
     "output_type": "stream",
     "text": [
      "<class 'pandas.core.frame.DataFrame'>\n",
      "Int64Index: 97109 entries, 0 to 101765\n",
      "Data columns (total 38 columns):\n",
      "race                        97109 non-null int64\n",
      "gender                      97109 non-null int64\n",
      "age                         97109 non-null int64\n",
      "admission_type_id           97109 non-null int64\n",
      "discharge_disposition_id    97109 non-null int64\n",
      "admission_source_id         97109 non-null int64\n",
      "time_in_hospital            97109 non-null int64\n",
      "num_lab_procedures          97109 non-null float64\n",
      "num_procedures              97109 non-null int64\n",
      "num_medications             97109 non-null float64\n",
      "number_diagnoses            97109 non-null int64\n",
      "max_glu_serum               97109 non-null int64\n",
      "A1Cresult                   97109 non-null int64\n",
      "metformin                   97109 non-null int64\n",
      "repaglinide                 97109 non-null int64\n",
      "nateglinide                 97109 non-null int64\n",
      "chlorpropamide              97109 non-null int64\n",
      "glimepiride                 97109 non-null int64\n",
      "acetohexamide               97109 non-null int64\n",
      "glipizide                   97109 non-null int64\n",
      "glyburide                   97109 non-null int64\n",
      "tolbutamide                 97109 non-null int64\n",
      "pioglitazone                97109 non-null int64\n",
      "rosiglitazone               97109 non-null int64\n",
      "acarbose                    97109 non-null int64\n",
      "miglitol                    97109 non-null int64\n",
      "troglitazone                97109 non-null int64\n",
      "tolazamide                  97109 non-null int64\n",
      "insulin                     97109 non-null int64\n",
      "glyburide-metformin         97109 non-null int64\n",
      "glipizide-metformin         97109 non-null int64\n",
      "glimepiride-pioglitazone    97109 non-null int64\n",
      "metformin-rosiglitazone     97109 non-null int64\n",
      "metformin-pioglitazone      97109 non-null int64\n",
      "change                      97109 non-null int64\n",
      "diabetesMed                 97109 non-null int64\n",
      "readmitted                  97109 non-null int64\n",
      "total_services              97109 non-null int64\n",
      "dtypes: float64(2), int64(36)\n",
      "memory usage: 28.9 MB\n"
     ]
    }
   ],
   "source": [
    "df.info()"
   ]
  },
  {
   "cell_type": "code",
   "execution_count": 58,
   "metadata": {},
   "outputs": [
    {
     "name": "stdout",
     "output_type": "stream",
     "text": [
      "Warning: Maximum number of iterations has been exceeded.\n",
      "         Current function value: 0.655422\n",
      "         Iterations: 35\n"
     ]
    },
    {
     "name": "stderr",
     "output_type": "stream",
     "text": [
      "/opt/anaconda3/lib/python3.7/site-packages/statsmodels/base/model.py:512: ConvergenceWarning: Maximum Likelihood optimization failed to converge. Check mle_retvals\n",
      "  \"Check mle_retvals\", ConvergenceWarning)\n"
     ]
    },
    {
     "data": {
      "text/html": [
       "<table class=\"simpletable\">\n",
       "<caption>Logit Regression Results</caption>\n",
       "<tr>\n",
       "  <th>Dep. Variable:</th>           <td>y</td>        <th>  No. Observations:  </th>  <td> 97109</td> \n",
       "</tr>\n",
       "<tr>\n",
       "  <th>Model:</th>                 <td>Logit</td>      <th>  Df Residuals:      </th>  <td> 97072</td> \n",
       "</tr>\n",
       "<tr>\n",
       "  <th>Method:</th>                 <td>MLE</td>       <th>  Df Model:          </th>  <td>    36</td> \n",
       "</tr>\n",
       "<tr>\n",
       "  <th>Date:</th>            <td>Sun, 12 Apr 2020</td> <th>  Pseudo R-squ.:     </th>  <td>0.05266</td>\n",
       "</tr>\n",
       "<tr>\n",
       "  <th>Time:</th>                <td>15:43:49</td>     <th>  Log-Likelihood:    </th> <td> -63647.</td>\n",
       "</tr>\n",
       "<tr>\n",
       "  <th>converged:</th>             <td>False</td>      <th>  LL-Null:           </th> <td> -67186.</td>\n",
       "</tr>\n",
       "<tr>\n",
       "  <th>Covariance Type:</th>     <td>nonrobust</td>    <th>  LLR p-value:       </th>  <td> 0.000</td> \n",
       "</tr>\n",
       "</table>\n",
       "<table class=\"simpletable\">\n",
       "<tr>\n",
       "              <td></td>                <th>coef</th>     <th>std err</th>      <th>z</th>      <th>P>|z|</th>  <th>[0.025</th>    <th>0.975]</th>  \n",
       "</tr>\n",
       "<tr>\n",
       "  <th>race</th>                     <td>    0.0586</td> <td>    0.013</td> <td>    4.582</td> <td> 0.000</td> <td>    0.034</td> <td>    0.084</td>\n",
       "</tr>\n",
       "<tr>\n",
       "  <th>gender</th>                   <td>    0.0383</td> <td>    0.013</td> <td>    2.841</td> <td> 0.004</td> <td>    0.012</td> <td>    0.065</td>\n",
       "</tr>\n",
       "<tr>\n",
       "  <th>age</th>                      <td>    0.0029</td> <td>    0.000</td> <td>    6.446</td> <td> 0.000</td> <td>    0.002</td> <td>    0.004</td>\n",
       "</tr>\n",
       "<tr>\n",
       "  <th>admission_type_id</th>        <td>    0.0128</td> <td>    0.005</td> <td>    2.368</td> <td> 0.018</td> <td>    0.002</td> <td>    0.023</td>\n",
       "</tr>\n",
       "<tr>\n",
       "  <th>discharge_disposition_id</th> <td>   -0.0026</td> <td>    0.002</td> <td>   -1.454</td> <td> 0.146</td> <td>   -0.006</td> <td>    0.001</td>\n",
       "</tr>\n",
       "<tr>\n",
       "  <th>admission_source_id</th>      <td>    0.0251</td> <td>    0.002</td> <td>   10.089</td> <td> 0.000</td> <td>    0.020</td> <td>    0.030</td>\n",
       "</tr>\n",
       "<tr>\n",
       "  <th>time_in_hospital</th>         <td>    0.0170</td> <td>    0.003</td> <td>    6.525</td> <td> 0.000</td> <td>    0.012</td> <td>    0.022</td>\n",
       "</tr>\n",
       "<tr>\n",
       "  <th>num_lab_procedures</th>       <td>    0.0250</td> <td>    0.004</td> <td>    6.176</td> <td> 0.000</td> <td>    0.017</td> <td>    0.033</td>\n",
       "</tr>\n",
       "<tr>\n",
       "  <th>num_procedures</th>           <td>   -0.0454</td> <td>    0.004</td> <td>  -10.392</td> <td> 0.000</td> <td>   -0.054</td> <td>   -0.037</td>\n",
       "</tr>\n",
       "<tr>\n",
       "  <th>num_medications</th>          <td>    0.0365</td> <td>    0.009</td> <td>    4.119</td> <td> 0.000</td> <td>    0.019</td> <td>    0.054</td>\n",
       "</tr>\n",
       "<tr>\n",
       "  <th>number_diagnoses</th>         <td>    0.0737</td> <td>    0.004</td> <td>   19.079</td> <td> 0.000</td> <td>    0.066</td> <td>    0.081</td>\n",
       "</tr>\n",
       "<tr>\n",
       "  <th>max_glu_serum</th>            <td>    0.0295</td> <td>    0.026</td> <td>    1.126</td> <td> 0.260</td> <td>   -0.022</td> <td>    0.081</td>\n",
       "</tr>\n",
       "<tr>\n",
       "  <th>A1Cresult</th>                <td>   -0.0682</td> <td>    0.026</td> <td>   -2.645</td> <td> 0.008</td> <td>   -0.119</td> <td>   -0.018</td>\n",
       "</tr>\n",
       "<tr>\n",
       "  <th>metformin</th>                <td>   -0.1054</td> <td>    0.009</td> <td>  -11.521</td> <td> 0.000</td> <td>   -0.123</td> <td>   -0.087</td>\n",
       "</tr>\n",
       "<tr>\n",
       "  <th>repaglinide</th>              <td>    0.0530</td> <td>    0.026</td> <td>    2.003</td> <td> 0.045</td> <td>    0.001</td> <td>    0.105</td>\n",
       "</tr>\n",
       "<tr>\n",
       "  <th>nateglinide</th>              <td>   -0.0062</td> <td>    0.039</td> <td>   -0.158</td> <td> 0.875</td> <td>   -0.083</td> <td>    0.071</td>\n",
       "</tr>\n",
       "<tr>\n",
       "  <th>chlorpropamide</th>           <td>    0.0273</td> <td>    0.107</td> <td>    0.255</td> <td> 0.799</td> <td>   -0.183</td> <td>    0.237</td>\n",
       "</tr>\n",
       "<tr>\n",
       "  <th>glimepiride</th>              <td>   -0.0303</td> <td>    0.015</td> <td>   -1.977</td> <td> 0.048</td> <td>   -0.060</td> <td>   -0.000</td>\n",
       "</tr>\n",
       "<tr>\n",
       "  <th>acetohexamide</th>            <td>    8.9475</td> <td> 4124.746</td> <td>    0.002</td> <td> 0.998</td> <td>-8075.405</td> <td> 8093.300</td>\n",
       "</tr>\n",
       "<tr>\n",
       "  <th>glipizide</th>                <td>   -0.0006</td> <td>    0.011</td> <td>   -0.054</td> <td> 0.957</td> <td>   -0.022</td> <td>    0.021</td>\n",
       "</tr>\n",
       "<tr>\n",
       "  <th>glyburide</th>                <td>   -0.0376</td> <td>    0.012</td> <td>   -3.227</td> <td> 0.001</td> <td>   -0.060</td> <td>   -0.015</td>\n",
       "</tr>\n",
       "<tr>\n",
       "  <th>tolbutamide</th>              <td>   -0.3146</td> <td>    0.238</td> <td>   -1.323</td> <td> 0.186</td> <td>   -0.781</td> <td>    0.152</td>\n",
       "</tr>\n",
       "<tr>\n",
       "  <th>pioglitazone</th>             <td>   -0.0042</td> <td>    0.013</td> <td>   -0.318</td> <td> 0.751</td> <td>   -0.030</td> <td>    0.022</td>\n",
       "</tr>\n",
       "<tr>\n",
       "  <th>rosiglitazone</th>            <td>    0.0206</td> <td>    0.014</td> <td>    1.472</td> <td> 0.141</td> <td>   -0.007</td> <td>    0.048</td>\n",
       "</tr>\n",
       "<tr>\n",
       "  <th>acarbose</th>                 <td>    0.1712</td> <td>    0.060</td> <td>    2.836</td> <td> 0.005</td> <td>    0.053</td> <td>    0.290</td>\n",
       "</tr>\n",
       "<tr>\n",
       "  <th>miglitol</th>                 <td>    0.2151</td> <td>    0.172</td> <td>    1.250</td> <td> 0.211</td> <td>   -0.122</td> <td>    0.552</td>\n",
       "</tr>\n",
       "<tr>\n",
       "  <th>troglitazone</th>             <td>    0.3193</td> <td>    0.614</td> <td>    0.520</td> <td> 0.603</td> <td>   -0.884</td> <td>    1.522</td>\n",
       "</tr>\n",
       "<tr>\n",
       "  <th>tolazamide</th>               <td>   -0.1923</td> <td>    0.168</td> <td>   -1.146</td> <td> 0.252</td> <td>   -0.521</td> <td>    0.137</td>\n",
       "</tr>\n",
       "<tr>\n",
       "  <th>insulin</th>                  <td>   -0.0431</td> <td>    0.009</td> <td>   -5.047</td> <td> 0.000</td> <td>   -0.060</td> <td>   -0.026</td>\n",
       "</tr>\n",
       "<tr>\n",
       "  <th>glyburide-metformin</th>      <td>    0.0090</td> <td>    0.040</td> <td>    0.227</td> <td> 0.820</td> <td>   -0.069</td> <td>    0.087</td>\n",
       "</tr>\n",
       "<tr>\n",
       "  <th>glipizide-metformin</th>      <td>    0.2397</td> <td>    0.289</td> <td>    0.831</td> <td> 0.406</td> <td>   -0.326</td> <td>    0.805</td>\n",
       "</tr>\n",
       "<tr>\n",
       "  <th>glimepiride-pioglitazone</th> <td>    9.0038</td> <td> 4125.313</td> <td>    0.002</td> <td> 0.998</td> <td>-8076.462</td> <td> 8094.469</td>\n",
       "</tr>\n",
       "<tr>\n",
       "  <th>metformin-rosiglitazone</th>  <td>   -6.6678</td> <td> 1.27e+04</td> <td>   -0.001</td> <td> 1.000</td> <td> -2.5e+04</td> <td>  2.5e+04</td>\n",
       "</tr>\n",
       "<tr>\n",
       "  <th>metformin-pioglitazone</th>   <td>   -9.7121</td> <td> 1.13e+04</td> <td>   -0.001</td> <td> 0.999</td> <td>-2.22e+04</td> <td> 2.22e+04</td>\n",
       "</tr>\n",
       "<tr>\n",
       "  <th>change</th>                   <td>    0.0745</td> <td>    0.019</td> <td>    3.987</td> <td> 0.000</td> <td>    0.038</td> <td>    0.111</td>\n",
       "</tr>\n",
       "<tr>\n",
       "  <th>diabetesMed</th>              <td>    0.3096</td> <td>    0.022</td> <td>   13.878</td> <td> 0.000</td> <td>    0.266</td> <td>    0.353</td>\n",
       "</tr>\n",
       "<tr>\n",
       "  <th>total_services</th>           <td>    0.2369</td> <td>    0.004</td> <td>   56.547</td> <td> 0.000</td> <td>    0.229</td> <td>    0.245</td>\n",
       "</tr>\n",
       "</table>"
      ],
      "text/plain": [
       "<class 'statsmodels.iolib.summary.Summary'>\n",
       "\"\"\"\n",
       "                           Logit Regression Results                           \n",
       "==============================================================================\n",
       "Dep. Variable:                      y   No. Observations:                97109\n",
       "Model:                          Logit   Df Residuals:                    97072\n",
       "Method:                           MLE   Df Model:                           36\n",
       "Date:                Sun, 12 Apr 2020   Pseudo R-squ.:                 0.05266\n",
       "Time:                        15:43:49   Log-Likelihood:                -63647.\n",
       "converged:                      False   LL-Null:                       -67186.\n",
       "Covariance Type:            nonrobust   LLR p-value:                     0.000\n",
       "============================================================================================\n",
       "                               coef    std err          z      P>|z|      [0.025      0.975]\n",
       "--------------------------------------------------------------------------------------------\n",
       "race                         0.0586      0.013      4.582      0.000       0.034       0.084\n",
       "gender                       0.0383      0.013      2.841      0.004       0.012       0.065\n",
       "age                          0.0029      0.000      6.446      0.000       0.002       0.004\n",
       "admission_type_id            0.0128      0.005      2.368      0.018       0.002       0.023\n",
       "discharge_disposition_id    -0.0026      0.002     -1.454      0.146      -0.006       0.001\n",
       "admission_source_id          0.0251      0.002     10.089      0.000       0.020       0.030\n",
       "time_in_hospital             0.0170      0.003      6.525      0.000       0.012       0.022\n",
       "num_lab_procedures           0.0250      0.004      6.176      0.000       0.017       0.033\n",
       "num_procedures              -0.0454      0.004    -10.392      0.000      -0.054      -0.037\n",
       "num_medications              0.0365      0.009      4.119      0.000       0.019       0.054\n",
       "number_diagnoses             0.0737      0.004     19.079      0.000       0.066       0.081\n",
       "max_glu_serum                0.0295      0.026      1.126      0.260      -0.022       0.081\n",
       "A1Cresult                   -0.0682      0.026     -2.645      0.008      -0.119      -0.018\n",
       "metformin                   -0.1054      0.009    -11.521      0.000      -0.123      -0.087\n",
       "repaglinide                  0.0530      0.026      2.003      0.045       0.001       0.105\n",
       "nateglinide                 -0.0062      0.039     -0.158      0.875      -0.083       0.071\n",
       "chlorpropamide               0.0273      0.107      0.255      0.799      -0.183       0.237\n",
       "glimepiride                 -0.0303      0.015     -1.977      0.048      -0.060      -0.000\n",
       "acetohexamide                8.9475   4124.746      0.002      0.998   -8075.405    8093.300\n",
       "glipizide                   -0.0006      0.011     -0.054      0.957      -0.022       0.021\n",
       "glyburide                   -0.0376      0.012     -3.227      0.001      -0.060      -0.015\n",
       "tolbutamide                 -0.3146      0.238     -1.323      0.186      -0.781       0.152\n",
       "pioglitazone                -0.0042      0.013     -0.318      0.751      -0.030       0.022\n",
       "rosiglitazone                0.0206      0.014      1.472      0.141      -0.007       0.048\n",
       "acarbose                     0.1712      0.060      2.836      0.005       0.053       0.290\n",
       "miglitol                     0.2151      0.172      1.250      0.211      -0.122       0.552\n",
       "troglitazone                 0.3193      0.614      0.520      0.603      -0.884       1.522\n",
       "tolazamide                  -0.1923      0.168     -1.146      0.252      -0.521       0.137\n",
       "insulin                     -0.0431      0.009     -5.047      0.000      -0.060      -0.026\n",
       "glyburide-metformin          0.0090      0.040      0.227      0.820      -0.069       0.087\n",
       "glipizide-metformin          0.2397      0.289      0.831      0.406      -0.326       0.805\n",
       "glimepiride-pioglitazone     9.0038   4125.313      0.002      0.998   -8076.462    8094.469\n",
       "metformin-rosiglitazone     -6.6678   1.27e+04     -0.001      1.000    -2.5e+04     2.5e+04\n",
       "metformin-pioglitazone      -9.7121   1.13e+04     -0.001      0.999   -2.22e+04    2.22e+04\n",
       "change                       0.0745      0.019      3.987      0.000       0.038       0.111\n",
       "diabetesMed                  0.3096      0.022     13.878      0.000       0.266       0.353\n",
       "total_services               0.2369      0.004     56.547      0.000       0.229       0.245\n",
       "============================================================================================\n",
       "\"\"\""
      ]
     },
     "execution_count": 58,
     "metadata": {},
     "output_type": "execute_result"
    }
   ],
   "source": [
    "result=model.fit()\n",
    "result.summary()"
   ]
  },
  {
   "cell_type": "markdown",
   "metadata": {},
   "source": [
    "## LOGISTIC REGRESSION"
   ]
  },
  {
   "cell_type": "code",
   "execution_count": 59,
   "metadata": {},
   "outputs": [
    {
     "name": "stderr",
     "output_type": "stream",
     "text": [
      "/opt/anaconda3/lib/python3.7/site-packages/sklearn/linear_model/_logistic.py:940: ConvergenceWarning: lbfgs failed to converge (status=1):\n",
      "STOP: TOTAL NO. of ITERATIONS REACHED LIMIT.\n",
      "\n",
      "Increase the number of iterations (max_iter) or scale the data as shown in:\n",
      "    https://scikit-learn.org/stable/modules/preprocessing.html\n",
      "Please also refer to the documentation for alternative solver options:\n",
      "    https://scikit-learn.org/stable/modules/linear_model.html#logistic-regression\n",
      "  extra_warning_msg=_LOGISTIC_SOLVER_CONVERGENCE_MSG)\n"
     ]
    },
    {
     "data": {
      "text/plain": [
       "LogisticRegression(C=1.0, class_weight=None, dual=False, fit_intercept=True,\n",
       "                   intercept_scaling=1, l1_ratio=None, max_iter=100,\n",
       "                   multi_class='auto', n_jobs=None, penalty='l2',\n",
       "                   random_state=None, solver='lbfgs', tol=0.0001, verbose=0,\n",
       "                   warm_start=False)"
      ]
     },
     "execution_count": 59,
     "metadata": {},
     "output_type": "execute_result"
    }
   ],
   "source": [
    "lr=LogisticRegression()\n",
    "lr.fit(x_train,y_train)"
   ]
  },
  {
   "cell_type": "code",
   "execution_count": 60,
   "metadata": {},
   "outputs": [],
   "source": [
    "ytrain_pred0=lr.predict(x_train)\n",
    "ytrain_prob0=lr.predict_proba(x_train)[:,1]\n",
    "ytest_pred0=lr.predict(x_test)\n",
    "ytest_prob0=lr.predict_proba(x_test)[:,1]"
   ]
  },
  {
   "cell_type": "code",
   "execution_count": 61,
   "metadata": {},
   "outputs": [
    {
     "name": "stdout",
     "output_type": "stream",
     "text": [
      "Confusion Matrix: \n",
      " [[31006  9809]\n",
      " [20205 16667]]\n"
     ]
    },
    {
     "data": {
      "text/plain": [
       "(0.6136547942384183, 0.6558155489261472)"
      ]
     },
     "execution_count": 61,
     "metadata": {},
     "output_type": "execute_result"
    }
   ],
   "source": [
    "print('Confusion Matrix:','\\n',confusion_matrix(y_train,ytrain_pred0))\n",
    "accuracy_score(y_train,ytrain_pred0),roc_auc_score(y_train,ytrain_prob0)"
   ]
  },
  {
   "cell_type": "code",
   "execution_count": 62,
   "metadata": {},
   "outputs": [
    {
     "name": "stdout",
     "output_type": "stream",
     "text": [
      "Confusion Matrix: \n",
      " [[7773 2431]\n",
      " [5013 4205]]\n"
     ]
    },
    {
     "data": {
      "text/plain": [
       "(0.6167233034702915, 0.6558363007151398)"
      ]
     },
     "execution_count": 62,
     "metadata": {},
     "output_type": "execute_result"
    }
   ],
   "source": [
    "print('Confusion Matrix:','\\n',confusion_matrix(y_test,ytest_pred0))\n",
    "accuracy_score(y_test,ytest_pred0),roc_auc_score(y_test,ytest_prob0)"
   ]
  },
  {
   "cell_type": "code",
   "execution_count": 63,
   "metadata": {},
   "outputs": [
    {
     "name": "stdout",
     "output_type": "stream",
     "text": [
      "              precision    recall  f1-score   support\n",
      "\n",
      "           0       0.61      0.76      0.67     40815\n",
      "           1       0.63      0.45      0.53     36872\n",
      "\n",
      "    accuracy                           0.61     77687\n",
      "   macro avg       0.62      0.61      0.60     77687\n",
      "weighted avg       0.62      0.61      0.60     77687\n",
      "\n"
     ]
    }
   ],
   "source": [
    "print(classification_report(y_train,ytrain_pred0))"
   ]
  },
  {
   "cell_type": "code",
   "execution_count": 64,
   "metadata": {},
   "outputs": [
    {
     "name": "stdout",
     "output_type": "stream",
     "text": [
      "              precision    recall  f1-score   support\n",
      "\n",
      "           0       0.61      0.76      0.68     10204\n",
      "           1       0.63      0.46      0.53      9218\n",
      "\n",
      "    accuracy                           0.62     19422\n",
      "   macro avg       0.62      0.61      0.60     19422\n",
      "weighted avg       0.62      0.62      0.61     19422\n",
      "\n"
     ]
    }
   ],
   "source": [
    "print(classification_report(y_test,ytest_pred0))"
   ]
  },
  {
   "cell_type": "markdown",
   "metadata": {},
   "source": [
    "## DTREE"
   ]
  },
  {
   "cell_type": "code",
   "execution_count": 65,
   "metadata": {},
   "outputs": [],
   "source": [
    "dtree=DecisionTreeClassifier(class_weight='balanced')"
   ]
  },
  {
   "cell_type": "code",
   "execution_count": 66,
   "metadata": {},
   "outputs": [
    {
     "data": {
      "text/plain": [
       "DecisionTreeClassifier(ccp_alpha=0.0, class_weight='balanced', criterion='gini',\n",
       "                       max_depth=None, max_features=None, max_leaf_nodes=None,\n",
       "                       min_impurity_decrease=0.0, min_impurity_split=None,\n",
       "                       min_samples_leaf=1, min_samples_split=2,\n",
       "                       min_weight_fraction_leaf=0.0, presort='deprecated',\n",
       "                       random_state=None, splitter='best')"
      ]
     },
     "execution_count": 66,
     "metadata": {},
     "output_type": "execute_result"
    }
   ],
   "source": [
    "dtree.fit(x_train,y_train)"
   ]
  },
  {
   "cell_type": "code",
   "execution_count": 67,
   "metadata": {},
   "outputs": [],
   "source": [
    "ytrain_pred2=dtree.predict(x_train)\n",
    "ytest_pred2=dtree.predict(x_test)\n"
   ]
  },
  {
   "cell_type": "code",
   "execution_count": 68,
   "metadata": {},
   "outputs": [
    {
     "name": "stdout",
     "output_type": "stream",
     "text": [
      "Confusion Matrix: \n",
      " [[40811     4]\n",
      " [    0 36872]]\n"
     ]
    },
    {
     "data": {
      "text/plain": [
       "0.9999485113339426"
      ]
     },
     "execution_count": 68,
     "metadata": {},
     "output_type": "execute_result"
    }
   ],
   "source": [
    "print('Confusion Matrix:','\\n',confusion_matrix(y_train,ytrain_pred2))\n",
    "accuracy_score(y_train,ytrain_pred2)"
   ]
  },
  {
   "cell_type": "code",
   "execution_count": 69,
   "metadata": {},
   "outputs": [
    {
     "name": "stdout",
     "output_type": "stream",
     "text": [
      "Confusion Matrix: \n",
      " [[5802 4402]\n",
      " [4314 4904]]\n"
     ]
    },
    {
     "data": {
      "text/plain": [
       "0.5512305632787561"
      ]
     },
     "execution_count": 69,
     "metadata": {},
     "output_type": "execute_result"
    }
   ],
   "source": [
    "print('Confusion Matrix:','\\n',confusion_matrix(y_test,ytest_pred2))\n",
    "accuracy_score(y_test,ytest_pred2)"
   ]
  },
  {
   "cell_type": "code",
   "execution_count": 70,
   "metadata": {},
   "outputs": [
    {
     "name": "stdout",
     "output_type": "stream",
     "text": [
      "Classification report               precision    recall  f1-score   support\n",
      "\n",
      "           0       0.57      0.57      0.57     10204\n",
      "           1       0.53      0.53      0.53      9218\n",
      "\n",
      "    accuracy                           0.55     19422\n",
      "   macro avg       0.55      0.55      0.55     19422\n",
      "weighted avg       0.55      0.55      0.55     19422\n",
      "\n"
     ]
    }
   ],
   "source": [
    "print(\"Classification report\", classification_report(y_test,ytest_pred2))"
   ]
  },
  {
   "cell_type": "code",
   "execution_count": 137,
   "metadata": {},
   "outputs": [],
   "source": [
    "params={'max_depth':sp_randint(1,30),\n",
    "        'min_samples_split':sp_randint(2,20),\n",
    "       'min_samples_leaf':sp_randint(1,20),\n",
    "       'criterion':['gini','entropy']}"
   ]
  },
  {
   "cell_type": "code",
   "execution_count": 138,
   "metadata": {},
   "outputs": [
    {
     "data": {
      "text/plain": [
       "{'criterion': 'entropy',\n",
       " 'max_depth': 8,\n",
       " 'min_samples_leaf': 2,\n",
       " 'min_samples_split': 2}"
      ]
     },
     "execution_count": 138,
     "metadata": {},
     "output_type": "execute_result"
    }
   ],
   "source": [
    "rr=RandomizedSearchCV(dtree,param_distributions=params,cv=3,random_state=1,scoring='roc_auc')\n",
    "rr.fit(x_trains,y_train)\n",
    "rr.best_params_"
   ]
  },
  {
   "cell_type": "code",
   "execution_count": 139,
   "metadata": {},
   "outputs": [
    {
     "data": {
      "text/plain": [
       "DecisionTreeClassifier(ccp_alpha=0.0, class_weight=None, criterion='entropy',\n",
       "                       max_depth=8, max_features=None, max_leaf_nodes=None,\n",
       "                       min_impurity_decrease=0.0, min_impurity_split=None,\n",
       "                       min_samples_leaf=2, min_samples_split=2,\n",
       "                       min_weight_fraction_leaf=0.0, presort='deprecated',\n",
       "                       random_state=None, splitter='best')"
      ]
     },
     "execution_count": 139,
     "metadata": {},
     "output_type": "execute_result"
    }
   ],
   "source": [
    "dt=DecisionTreeClassifier(**rr.best_params_)\n",
    "dt.fit(x_trains,y_train)"
   ]
  },
  {
   "cell_type": "code",
   "execution_count": 140,
   "metadata": {},
   "outputs": [],
   "source": [
    "ytrain_pred4=dt.predict(x_trains)\n",
    "ytrain_prob4=dt.predict_proba(x_trains)[:,1]\n",
    "ytest_pred4=dt.predict(x_tests)\n",
    "ytest_prob4=dt.predict_proba(x_tests)[:,1]"
   ]
  },
  {
   "cell_type": "code",
   "execution_count": 141,
   "metadata": {},
   "outputs": [
    {
     "name": "stdout",
     "output_type": "stream",
     "text": [
      "Confusion Matrix: \n",
      " [[30256 10559]\n",
      " [18211 18661]]\n"
     ]
    },
    {
     "data": {
      "text/plain": [
       "(0.6296677693822648, 0.6793171104731548)"
      ]
     },
     "execution_count": 141,
     "metadata": {},
     "output_type": "execute_result"
    }
   ],
   "source": [
    "print('Confusion Matrix:','\\n',confusion_matrix(y_train,ytrain_pred4))\n",
    "accuracy_score(y_train,ytrain_pred4),roc_auc_score(y_train,ytrain_prob4)"
   ]
  },
  {
   "cell_type": "code",
   "execution_count": 142,
   "metadata": {},
   "outputs": [
    {
     "name": "stdout",
     "output_type": "stream",
     "text": [
      "Confusion Matrix: \n",
      " [[7455 2749]\n",
      " [4631 4587]]\n"
     ]
    },
    {
     "data": {
      "text/plain": [
       "(0.6200185356811863, 0.6584808600577722)"
      ]
     },
     "execution_count": 142,
     "metadata": {},
     "output_type": "execute_result"
    }
   ],
   "source": [
    "print('Confusion Matrix:','\\n',confusion_matrix(y_test,ytest_pred4))\n",
    "accuracy_score(y_test,ytest_pred4),roc_auc_score(y_test,ytest_prob4)"
   ]
  },
  {
   "cell_type": "code",
   "execution_count": 143,
   "metadata": {},
   "outputs": [
    {
     "name": "stdout",
     "output_type": "stream",
     "text": [
      "Classification report               precision    recall  f1-score   support\n",
      "\n",
      "           0       0.62      0.73      0.67     10204\n",
      "           1       0.63      0.50      0.55      9218\n",
      "\n",
      "    accuracy                           0.62     19422\n",
      "   macro avg       0.62      0.61      0.61     19422\n",
      "weighted avg       0.62      0.62      0.61     19422\n",
      "\n"
     ]
    }
   ],
   "source": [
    "print(\"Classification report\", classification_report(y_test,ytest_pred4))"
   ]
  },
  {
   "cell_type": "markdown",
   "metadata": {},
   "source": [
    "## Random Forest"
   ]
  },
  {
   "cell_type": "code",
   "execution_count": 71,
   "metadata": {
    "scrolled": true
   },
   "outputs": [
    {
     "data": {
      "text/plain": [
       "RandomForestClassifier(bootstrap=True, ccp_alpha=0.0, class_weight='balanced',\n",
       "                       criterion='gini', max_depth=None, max_features='auto',\n",
       "                       max_leaf_nodes=None, max_samples=None,\n",
       "                       min_impurity_decrease=0.0, min_impurity_split=None,\n",
       "                       min_samples_leaf=1, min_samples_split=2,\n",
       "                       min_weight_fraction_leaf=0.0, n_estimators=100,\n",
       "                       n_jobs=None, oob_score=False, random_state=None,\n",
       "                       verbose=0, warm_start=False)"
      ]
     },
     "execution_count": 71,
     "metadata": {},
     "output_type": "execute_result"
    }
   ],
   "source": [
    "rf=RandomForestClassifier(class_weight='balanced')\n",
    "rf.fit(x_train,y_train)"
   ]
  },
  {
   "cell_type": "code",
   "execution_count": 72,
   "metadata": {},
   "outputs": [],
   "source": [
    "ytrain_pred2=rf.predict(x_train)\n",
    "ytest_pred2=rf.predict(x_test)\n",
    "ytrain_prob2=rf.predict_proba(x_train)[:,1]\n",
    "ytest_prob2=rf.predict_proba(x_test)[:,1]"
   ]
  },
  {
   "cell_type": "code",
   "execution_count": 73,
   "metadata": {},
   "outputs": [
    {
     "name": "stdout",
     "output_type": "stream",
     "text": [
      "Confusion Matrix: \n",
      " [[40812     3]\n",
      " [    2 36870]]\n"
     ]
    },
    {
     "data": {
      "text/plain": [
       "(0.9999356391674282, 0.9999999913617285)"
      ]
     },
     "execution_count": 73,
     "metadata": {},
     "output_type": "execute_result"
    }
   ],
   "source": [
    "print('Confusion Matrix:','\\n',confusion_matrix(y_train,ytrain_pred2))\n",
    "accuracy_score(y_train,ytrain_pred2),roc_auc_score(y_train,ytrain_prob2)"
   ]
  },
  {
   "cell_type": "code",
   "execution_count": 74,
   "metadata": {},
   "outputs": [
    {
     "name": "stdout",
     "output_type": "stream",
     "text": [
      "Confusion Matrix: \n",
      " [[6946 3258]\n",
      " [4182 5036]]\n"
     ]
    },
    {
     "data": {
      "text/plain": [
       "(0.6169292554834723, 0.6586562844379518)"
      ]
     },
     "execution_count": 74,
     "metadata": {},
     "output_type": "execute_result"
    }
   ],
   "source": [
    "print('Confusion Matrix:','\\n',confusion_matrix(y_test,ytest_pred2,labels=None))\n",
    "accuracy_score(y_test,ytest_pred2),roc_auc_score(y_test,ytest_prob2)"
   ]
  },
  {
   "cell_type": "code",
   "execution_count": 75,
   "metadata": {},
   "outputs": [
    {
     "name": "stdout",
     "output_type": "stream",
     "text": [
      "Classification report               precision    recall  f1-score   support\n",
      "\n",
      "           0       0.62      0.68      0.65     10204\n",
      "           1       0.61      0.55      0.58      9218\n",
      "\n",
      "    accuracy                           0.62     19422\n",
      "   macro avg       0.62      0.61      0.61     19422\n",
      "weighted avg       0.62      0.62      0.62     19422\n",
      "\n"
     ]
    }
   ],
   "source": [
    "print(\"Classification report\", classification_report(y_test,ytest_pred2))"
   ]
  },
  {
   "cell_type": "markdown",
   "metadata": {},
   "source": [
    "## HYPERPERAMETRIC TUNING ON RANDOM FOREST"
   ]
  },
  {
   "cell_type": "code",
   "execution_count": 145,
   "metadata": {},
   "outputs": [],
   "source": [
    "rf=RandomForestClassifier(class_weight='balanced')\n",
    "params= {\n",
    "    'n_estimators':np.arange(20,50),\n",
    "    'max_depth':np.arange(2,10),\n",
    "    'max_features':np.arange(1,12),\n",
    "    'criterion':['gini','entropy'],\n",
    "    'class_weight':['balanced']\n",
    "    \n",
    "}\n",
    "\n"
   ]
  },
  {
   "cell_type": "code",
   "execution_count": 146,
   "metadata": {},
   "outputs": [
    {
     "data": {
      "text/plain": [
       "RandomizedSearchCV(cv=5, error_score=nan,\n",
       "                   estimator=RandomForestClassifier(bootstrap=True,\n",
       "                                                    ccp_alpha=0.0,\n",
       "                                                    class_weight='balanced',\n",
       "                                                    criterion='gini',\n",
       "                                                    max_depth=None,\n",
       "                                                    max_features='auto',\n",
       "                                                    max_leaf_nodes=None,\n",
       "                                                    max_samples=None,\n",
       "                                                    min_impurity_decrease=0.0,\n",
       "                                                    min_impurity_split=None,\n",
       "                                                    min_samples_leaf=1,\n",
       "                                                    min_samples_split=2,\n",
       "                                                    min_weight_fraction_leaf=0.0,\n",
       "                                                    n_estimators=100,...\n",
       "                   param_distributions={'class_weight': ['balanced'],\n",
       "                                        'criterion': ['gini', 'entropy'],\n",
       "                                        'max_depth': array([2, 3, 4, 5, 6, 7, 8, 9]),\n",
       "                                        'max_features': array([ 1,  2,  3,  4,  5,  6,  7,  8,  9, 10, 11]),\n",
       "                                        'n_estimators': array([20, 21, 22, 23, 24, 25, 26, 27, 28, 29, 30, 31, 32, 33, 34, 35, 36,\n",
       "       37, 38, 39, 40, 41, 42, 43, 44, 45, 46, 47, 48, 49])},\n",
       "                   pre_dispatch='2*n_jobs', random_state=0, refit=True,\n",
       "                   return_train_score=False, scoring='roc_auc', verbose=0)"
      ]
     },
     "execution_count": 146,
     "metadata": {},
     "output_type": "execute_result"
    }
   ],
   "source": [
    "rr=RandomizedSearchCV(estimator=rf,param_distributions=params,random_state=0,cv=5,scoring='roc_auc')\n",
    "rr.fit(x_train,y_train)"
   ]
  },
  {
   "cell_type": "code",
   "execution_count": 147,
   "metadata": {},
   "outputs": [
    {
     "data": {
      "text/plain": [
       "{'n_estimators': 47,\n",
       " 'max_features': 10,\n",
       " 'max_depth': 9,\n",
       " 'criterion': 'gini',\n",
       " 'class_weight': 'balanced'}"
      ]
     },
     "execution_count": 147,
     "metadata": {},
     "output_type": "execute_result"
    }
   ],
   "source": [
    "rr.best_params_"
   ]
  },
  {
   "cell_type": "code",
   "execution_count": 148,
   "metadata": {},
   "outputs": [
    {
     "data": {
      "text/plain": [
       "RandomForestClassifier(bootstrap=True, ccp_alpha=0.0, class_weight='balanced',\n",
       "                       criterion='gini', max_depth=9, max_features=10,\n",
       "                       max_leaf_nodes=None, max_samples=None,\n",
       "                       min_impurity_decrease=0.0, min_impurity_split=None,\n",
       "                       min_samples_leaf=1, min_samples_split=2,\n",
       "                       min_weight_fraction_leaf=0.0, n_estimators=47,\n",
       "                       n_jobs=None, oob_score=False, random_state=None,\n",
       "                       verbose=0, warm_start=False)"
      ]
     },
     "execution_count": 148,
     "metadata": {},
     "output_type": "execute_result"
    }
   ],
   "source": [
    "rf=RandomForestClassifier(**rr.best_params_)\n",
    "rf.fit(x_train,y_train)"
   ]
  },
  {
   "cell_type": "code",
   "execution_count": 149,
   "metadata": {},
   "outputs": [],
   "source": [
    "ytrain_pred7=rf.predict(x_train)\n",
    "ytest_pred7=rf.predict(x_test)\n",
    "ytrain_prob7=rf.predict_proba(x_train)[:,1]\n",
    "ytest_prob7=rf.predict_proba(x_test)[:,1]"
   ]
  },
  {
   "cell_type": "code",
   "execution_count": 150,
   "metadata": {
    "scrolled": true
   },
   "outputs": [
    {
     "name": "stdout",
     "output_type": "stream",
     "text": [
      "Confusion Matrix: \n",
      " [[27399 13416]\n",
      " [14074 22798]]\n"
     ]
    },
    {
     "data": {
      "text/plain": [
       "(0.6461441425206277, 0.7070609076160239)"
      ]
     },
     "execution_count": 150,
     "metadata": {},
     "output_type": "execute_result"
    }
   ],
   "source": [
    "print('Confusion Matrix:','\\n',confusion_matrix(y_train,ytrain_pred7))\n",
    "accuracy_score(y_train,ytrain_pred7),roc_auc_score(y_train,ytrain_prob7)"
   ]
  },
  {
   "cell_type": "code",
   "execution_count": 151,
   "metadata": {},
   "outputs": [
    {
     "name": "stdout",
     "output_type": "stream",
     "text": [
      "Confusion Matrix: \n",
      " [[6701 3503]\n",
      " [3709 5509]]\n"
     ]
    },
    {
     "data": {
      "text/plain": [
       "(0.6286685202347853, 0.6767977572980922)"
      ]
     },
     "execution_count": 151,
     "metadata": {},
     "output_type": "execute_result"
    }
   ],
   "source": [
    "print('Confusion Matrix:','\\n',confusion_matrix(y_test,ytest_pred7))\n",
    "accuracy_score(y_test,ytest_pred7),roc_auc_score(y_test,ytest_prob7)"
   ]
  },
  {
   "cell_type": "code",
   "execution_count": 152,
   "metadata": {},
   "outputs": [
    {
     "name": "stdout",
     "output_type": "stream",
     "text": [
      "Classification report               precision    recall  f1-score   support\n",
      "\n",
      "           0       0.64      0.66      0.65     10204\n",
      "           1       0.61      0.60      0.60      9218\n",
      "\n",
      "    accuracy                           0.63     19422\n",
      "   macro avg       0.63      0.63      0.63     19422\n",
      "weighted avg       0.63      0.63      0.63     19422\n",
      "\n"
     ]
    }
   ],
   "source": [
    "print(\"Classification report\", classification_report(y_test,ytest_pred7))"
   ]
  },
  {
   "cell_type": "code",
   "execution_count": null,
   "metadata": {},
   "outputs": [],
   "source": []
  }
 ],
 "metadata": {
  "kernelspec": {
   "display_name": "Python 3",
   "language": "python",
   "name": "python3"
  },
  "language_info": {
   "codemirror_mode": {
    "name": "ipython",
    "version": 3
   },
   "file_extension": ".py",
   "mimetype": "text/x-python",
   "name": "python",
   "nbconvert_exporter": "python",
   "pygments_lexer": "ipython3",
   "version": "3.7.4"
  }
 },
 "nbformat": 4,
 "nbformat_minor": 2
}
